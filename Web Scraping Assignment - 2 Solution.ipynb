{
 "cells": [
  {
   "cell_type": "markdown",
   "id": "5c6dccdb",
   "metadata": {},
   "source": [
    "# Que 1"
   ]
  },
  {
   "cell_type": "code",
   "execution_count": null,
   "id": "403b3de6",
   "metadata": {},
   "outputs": [],
   "source": [
    "!pip install selenium"
   ]
  },
  {
   "cell_type": "code",
   "execution_count": null,
   "id": "07966f85",
   "metadata": {},
   "outputs": [],
   "source": [
    "import selenium\n",
    "from selenium import webdriver\n",
    "import pandas as pd\n",
    "import warnings\n",
    "warnings.filterwarnings('ignore')"
   ]
  },
  {
   "cell_type": "code",
   "execution_count": null,
   "id": "135f20be",
   "metadata": {},
   "outputs": [],
   "source": [
    "driver = webdriver.Chrome('C:/Users/Data trained/Downloads/chromedriver_win32/chromedriver')"
   ]
  },
  {
   "cell_type": "code",
   "execution_count": null,
   "id": "984704ac",
   "metadata": {},
   "outputs": [],
   "source": [
    "driver = webdriver.chrome('chromedriver.exe')"
   ]
  },
  {
   "cell_type": "code",
   "execution_count": null,
   "id": "3aca1f4a",
   "metadata": {},
   "outputs": [],
   "source": [
    "url = 'https://www.naukri.com/'\n",
    "driver.get(url)"
   ]
  },
  {
   "cell_type": "code",
   "execution_count": null,
   "id": "3f918dbd",
   "metadata": {},
   "outputs": [],
   "source": [
    "search_job = driver.find_element_by_class_name(\"suggestor-input\")\n",
    "search_job"
   ]
  },
  {
   "cell_type": "code",
   "execution_count": null,
   "id": "c47a53fe",
   "metadata": {},
   "outputs": [],
   "source": [
    "search_job.send_keys(\"Data Analyst\")"
   ]
  },
  {
   "cell_type": "code",
   "execution_count": null,
   "id": "97987ba8",
   "metadata": {},
   "outputs": [],
   "source": [
    "search_loc = driver.find_element_by_xpath(\"/html/body/div/div[2]/div[3]/div/div/div[3]/div/div/div/input\")"
   ]
  },
  {
   "cell_type": "code",
   "execution_count": null,
   "id": "94ca9b29",
   "metadata": {},
   "outputs": [],
   "source": [
    "search_loc"
   ]
  },
  {
   "cell_type": "code",
   "execution_count": null,
   "id": "09f35c33",
   "metadata": {},
   "outputs": [],
   "source": [
    "search_loc.send_keys(\"Banglore\")"
   ]
  },
  {
   "cell_type": "code",
   "execution_count": null,
   "id": "92c09147",
   "metadata": {},
   "outputs": [],
   "source": [
    "search_b = driver.find_element_by_xpath(\"/html/body/div/div[2]/div[3]/div/div/div[6]\")\n",
    "search_b"
   ]
  },
  {
   "cell_type": "code",
   "execution_count": null,
   "id": "21be0fa9",
   "metadata": {},
   "outputs": [],
   "source": [
    "search_b.click()"
   ]
  },
  {
   "cell_type": "code",
   "execution_count": null,
   "id": "1df00cd6",
   "metadata": {},
   "outputs": [],
   "source": [
    "# Now using xpath we'll extract the web elements of the job titles.\n",
    "\n",
    "title_tag = driver.find_elements_by_xpath('//a[@class=\"title fw500 ellipsis\"]')\n",
    "\n",
    "title_tag"
   ]
  },
  {
   "cell_type": "code",
   "execution_count": null,
   "id": "0d09c5f9",
   "metadata": {},
   "outputs": [],
   "source": [
    "job_title = []\n",
    "\n",
    "for j in title_tag:\n",
    "    job_title.append(j.text)\n",
    "    \n",
    "job_title"
   ]
  },
  {
   "cell_type": "code",
   "execution_count": null,
   "id": "d0dbccc4",
   "metadata": {},
   "outputs": [],
   "source": [
    "job_title[:10]"
   ]
  },
  {
   "cell_type": "code",
   "execution_count": null,
   "id": "e5b91729",
   "metadata": {},
   "outputs": [],
   "source": [
    "loc_tag = driver.find_elements_by_xpath('//li[@class=\"fleft grey-text br2 placeHolderLi location\"]')\n",
    "\n",
    "loc_tag[:10]"
   ]
  },
  {
   "cell_type": "code",
   "execution_count": null,
   "id": "b5b22dee",
   "metadata": {},
   "outputs": [],
   "source": [
    "locations = []\n",
    "\n",
    "for l in loc_tag:\n",
    "    locations.append(l.text)\n",
    "    \n",
    "locations[:10]"
   ]
  },
  {
   "cell_type": "code",
   "execution_count": null,
   "id": "3c32222f",
   "metadata": {},
   "outputs": [],
   "source": [
    "cmp_tag = driver.find_elements_by_xpath('//a[@class=\"subTitle ellipsis fleft\"]')\n",
    "\n",
    "cmp_tag"
   ]
  },
  {
   "cell_type": "code",
   "execution_count": null,
   "id": "843d6ad8",
   "metadata": {},
   "outputs": [],
   "source": [
    "company = []\n",
    "\n",
    "for c in cmp_tag:\n",
    "    company.append(c.text)\n",
    "    \n",
    "company[:10]"
   ]
  },
  {
   "cell_type": "code",
   "execution_count": null,
   "id": "f0407412",
   "metadata": {},
   "outputs": [],
   "source": [
    "exp_tag = driver.find_elements_by_xpath('//li[@class=\"fleft grey-text br2 placeHolderLi experience\"]')\n",
    "\n",
    "exp_tag"
   ]
  },
  {
   "cell_type": "code",
   "execution_count": null,
   "id": "4c318fbf",
   "metadata": {},
   "outputs": [],
   "source": [
    "exprience = []\n",
    "\n",
    "for e in exp_tag:\n",
    "    exprience.append(e.text)\n",
    "    \n",
    "exprience[:10]"
   ]
  },
  {
   "cell_type": "code",
   "execution_count": null,
   "id": "b87e7e07",
   "metadata": {},
   "outputs": [],
   "source": [
    "print(len(job_title[:10]),len(locations[:10]),len(company[:10]),len(exprience[:10]))"
   ]
  },
  {
   "cell_type": "code",
   "execution_count": null,
   "id": "5e91c94f",
   "metadata": {},
   "outputs": [],
   "source": [
    "job_details = pd.DataFrame({})\n",
    "\n",
    "job_details[' Job Title '] = job_title[:10]\n",
    "job_details[' Location '] = locations[:10]\n",
    "job_details[' Company Name ']= company[:10]\n",
    "job_details[' Exprience Required '] = exprience[:10]\n",
    "\n",
    "job_details"
   ]
  },
  {
   "cell_type": "markdown",
   "id": "3ee66f77",
   "metadata": {},
   "source": [
    "# Que 2"
   ]
  },
  {
   "cell_type": "markdown",
   "id": "43f88cc7",
   "metadata": {},
   "source": [
    "AS we already installed the librabries and driver , i am directly scraping the data"
   ]
  },
  {
   "cell_type": "code",
   "execution_count": null,
   "id": "6c6a022c",
   "metadata": {},
   "outputs": [],
   "source": [
    "driver = webdriver.Chrome('C:/Users/Data trained/Downloads/chromedriver_win32/chromedriver')"
   ]
  },
  {
   "cell_type": "code",
   "execution_count": null,
   "id": "1b844822",
   "metadata": {},
   "outputs": [],
   "source": [
    "url2 = 'https://www.naukri.com/'\n",
    "driver.get(url2)"
   ]
  },
  {
   "cell_type": "code",
   "execution_count": null,
   "id": "cab1054a",
   "metadata": {},
   "outputs": [],
   "source": [
    "search_job2 = driver.find_element_by_class_name(\"suggestor-input\")\n",
    "search_job2"
   ]
  },
  {
   "cell_type": "code",
   "execution_count": null,
   "id": "b0f0342d",
   "metadata": {},
   "outputs": [],
   "source": [
    "search_job2.send_keys(\"Data Scientist\")"
   ]
  },
  {
   "cell_type": "code",
   "execution_count": null,
   "id": "8e6546f5",
   "metadata": {},
   "outputs": [],
   "source": [
    "search_loc2 = driver.find_element_by_xpath(\"/html/body/div/div[2]/div[3]/div/div/div[3]/div/div/div/input\")"
   ]
  },
  {
   "cell_type": "code",
   "execution_count": null,
   "id": "135b6883",
   "metadata": {},
   "outputs": [],
   "source": [
    "search_loc2.send_keys(\"Banglore\")"
   ]
  },
  {
   "cell_type": "code",
   "execution_count": null,
   "id": "412a981a",
   "metadata": {},
   "outputs": [],
   "source": [
    "search_btn = driver.find_element_by_xpath(\"/html/body/div/div[2]/div[3]/div/div/div[6]\")\n",
    "search_btn"
   ]
  },
  {
   "cell_type": "code",
   "execution_count": null,
   "id": "8d20fbf3",
   "metadata": {},
   "outputs": [],
   "source": [
    "search_btn.click()"
   ]
  },
  {
   "cell_type": "code",
   "execution_count": null,
   "id": "92b3c680",
   "metadata": {},
   "outputs": [],
   "source": [
    "profile = driver.find_elements_by_xpath('//a[@class=\"title fw500 ellipsis\"]')\n",
    "\n",
    "profile"
   ]
  },
  {
   "cell_type": "code",
   "execution_count": null,
   "id": "c76b7d59",
   "metadata": {},
   "outputs": [],
   "source": [
    "job_title2 = []\n",
    "\n",
    "for j in profile:\n",
    "    job_title2.append(j.text)\n",
    "    \n",
    "job_title2"
   ]
  },
  {
   "cell_type": "code",
   "execution_count": null,
   "id": "38b6e0b4",
   "metadata": {},
   "outputs": [],
   "source": [
    "loca = driver.find_elements_by_xpath('//li[@class=\"fleft grey-text br2 placeHolderLi location\"]')\n",
    "\n",
    "loca"
   ]
  },
  {
   "cell_type": "code",
   "execution_count": null,
   "id": "42681564",
   "metadata": {},
   "outputs": [],
   "source": [
    "locations2 = []\n",
    "\n",
    "for l in loca:\n",
    "    locations2.append(l.text)\n",
    "    \n",
    "locations2[:10]"
   ]
  },
  {
   "cell_type": "code",
   "execution_count": null,
   "id": "6c244da0",
   "metadata": {},
   "outputs": [],
   "source": [
    "comp = driver.find_elements_by_xpath('//a[@class=\"subTitle ellipsis fleft\"]')\n",
    "\n",
    "comp"
   ]
  },
  {
   "cell_type": "code",
   "execution_count": null,
   "id": "35f1f64e",
   "metadata": {},
   "outputs": [],
   "source": [
    "company2 = []\n",
    "\n",
    "for c in comp:\n",
    "    company2.append(c.text)\n",
    "    \n",
    "company2"
   ]
  },
  {
   "cell_type": "code",
   "execution_count": null,
   "id": "312fcc2e",
   "metadata": {},
   "outputs": [],
   "source": [
    "job_det = pd.DataFrame({})\n",
    "\n",
    "job_det[' Job Title '] = job_title2[:10]\n",
    "job_det[' Location '] = locations2[:10]\n",
    "job_det[' Company Name ']= company2[:10]\n",
    "\n",
    "\n",
    "job_det"
   ]
  },
  {
   "cell_type": "markdown",
   "id": "8ea6200c",
   "metadata": {},
   "source": [
    "# Que 3"
   ]
  },
  {
   "cell_type": "code",
   "execution_count": null,
   "id": "0719350b",
   "metadata": {},
   "outputs": [],
   "source": [
    "url3 = 'https://www.naukri.com/'\n",
    "driver.get(url3)"
   ]
  },
  {
   "cell_type": "code",
   "execution_count": null,
   "id": "77130c61",
   "metadata": {},
   "outputs": [],
   "source": [
    "search_job3 = driver.find_element_by_class_name(\"suggestor-input\")\n",
    "search_job3"
   ]
  },
  {
   "cell_type": "code",
   "execution_count": null,
   "id": "655949e0",
   "metadata": {},
   "outputs": [],
   "source": [
    "search_job3.send_keys(\"Data Scientist\")"
   ]
  },
  {
   "cell_type": "code",
   "execution_count": null,
   "id": "b370bc6e",
   "metadata": {},
   "outputs": [],
   "source": [
    "search_butt = driver.find_element_by_xpath(\"/html/body/div/div[2]/div[3]/div/div/div[6]\")\n",
    "search_butt"
   ]
  },
  {
   "cell_type": "code",
   "execution_count": null,
   "id": "508db406",
   "metadata": {},
   "outputs": [],
   "source": [
    "search_butt.click()"
   ]
  },
  {
   "cell_type": "code",
   "execution_count": null,
   "id": "b9598a5c",
   "metadata": {},
   "outputs": [],
   "source": [
    "loc_check = driver.find_element_by_xpath(\"/html/body/div[1]/div[3]/div[2]/section[1]/div[2]/div[3]/div[2]/div[3]/label/i\")\n",
    "loc_check"
   ]
  },
  {
   "cell_type": "code",
   "execution_count": null,
   "id": "ff7faae5",
   "metadata": {},
   "outputs": [],
   "source": [
    "loc_check.click()"
   ]
  },
  {
   "cell_type": "code",
   "execution_count": null,
   "id": "84e02427",
   "metadata": {},
   "outputs": [],
   "source": [
    "sal_check = driver.find_element_by_xpath(\"/html/body/div[1]/div[3]/div[2]/section[1]/div[2]/div[4]/div[2]/div[2]/label/i\")\n",
    "sal_check"
   ]
  },
  {
   "cell_type": "code",
   "execution_count": null,
   "id": "78fe50c5",
   "metadata": {},
   "outputs": [],
   "source": [
    "sal_check.click()"
   ]
  },
  {
   "cell_type": "code",
   "execution_count": null,
   "id": "70cf89a5",
   "metadata": {},
   "outputs": [],
   "source": [
    "pro = driver.find_elements_by_xpath('//a[@class=\"title fw500 ellipsis\"]')\n",
    "\n",
    "pro"
   ]
  },
  {
   "cell_type": "code",
   "execution_count": null,
   "id": "58bae081",
   "metadata": {},
   "outputs": [],
   "source": [
    "job_title3 = []\n",
    "\n",
    "for j in pro:\n",
    "    job_title3.append(j.text)\n",
    "    \n",
    "job_title3"
   ]
  },
  {
   "cell_type": "code",
   "execution_count": null,
   "id": "c5f7a54f",
   "metadata": {},
   "outputs": [],
   "source": [
    "locat = driver.find_elements_by_xpath('//li[@class=\"fleft grey-text br2 placeHolderLi location\"]')\n",
    "\n",
    "locat"
   ]
  },
  {
   "cell_type": "code",
   "execution_count": null,
   "id": "5a94ad99",
   "metadata": {},
   "outputs": [],
   "source": [
    "locations3 = []\n",
    "\n",
    "for l in locat:\n",
    "    locations3.append(l.text)\n",
    "    \n",
    "locations3"
   ]
  },
  {
   "cell_type": "code",
   "execution_count": null,
   "id": "8121d588",
   "metadata": {},
   "outputs": [],
   "source": [
    "compan = driver.find_elements_by_xpath('//a[@class=\"subTitle ellipsis fleft\"]')\n",
    "\n",
    "compan"
   ]
  },
  {
   "cell_type": "code",
   "execution_count": null,
   "id": "6b9a11d5",
   "metadata": {},
   "outputs": [],
   "source": [
    "company3 = []\n",
    "\n",
    "for c in compan:\n",
    "    company3.append(c.text)\n",
    "    \n",
    "company3"
   ]
  },
  {
   "cell_type": "code",
   "execution_count": null,
   "id": "6f80826d",
   "metadata": {},
   "outputs": [],
   "source": [
    "expe_tag = driver.find_elements_by_xpath('//li[@class=\"fleft grey-text br2 placeHolderLi experience\"]')\n",
    "\n",
    "expe_tag"
   ]
  },
  {
   "cell_type": "code",
   "execution_count": null,
   "id": "fe737ed1",
   "metadata": {},
   "outputs": [],
   "source": [
    "exprience2 = []\n",
    "\n",
    "for e in expe_tag:\n",
    "    exprience2.append(e.text)\n",
    "    \n",
    "exprience2"
   ]
  },
  {
   "cell_type": "code",
   "execution_count": null,
   "id": "22d71cac",
   "metadata": {},
   "outputs": [],
   "source": [
    "jobbb = pd.DataFrame({})\n",
    "\n",
    "jobbb[' Job Title '] = job_title3[:10]\n",
    "jobbb[' Location '] = locations3[:10]\n",
    "jobbb[' Company Name ']= company3[:10]\n",
    "jobbb[' Exprience Required '] = exprience2[:10]\n",
    "\n",
    "jobbb"
   ]
  },
  {
   "cell_type": "markdown",
   "id": "6f995e2f",
   "metadata": {},
   "source": [
    "# Que 4"
   ]
  },
  {
   "cell_type": "code",
   "execution_count": null,
   "id": "2d8afdcf",
   "metadata": {},
   "outputs": [],
   "source": [
    "url4 = 'https://www.flipkart.com/'\n",
    "driver.get(url4)"
   ]
  },
  {
   "cell_type": "code",
   "execution_count": null,
   "id": "e80a54db",
   "metadata": {},
   "outputs": [],
   "source": [
    "search4 = driver.find_element_by_xpath('//input[@class=\"_3704LK\"]')\n",
    "\n",
    "search4"
   ]
  },
  {
   "cell_type": "code",
   "execution_count": null,
   "id": "99e787bb",
   "metadata": {},
   "outputs": [],
   "source": [
    "search4.send_keys('sunglasses')"
   ]
  },
  {
   "cell_type": "code",
   "execution_count": null,
   "id": "7bef0fdc",
   "metadata": {},
   "outputs": [],
   "source": [
    "search_button = driver.find_element_by_xpath('//button[@class=\"L0Z3Pu\"]')\n",
    "search_button"
   ]
  },
  {
   "cell_type": "code",
   "execution_count": null,
   "id": "c8da3899",
   "metadata": {},
   "outputs": [],
   "source": [
    "search_button.click()"
   ]
  },
  {
   "cell_type": "code",
   "execution_count": null,
   "id": "af62bc57",
   "metadata": {},
   "outputs": [],
   "source": [
    "brand_tag1 = driver.find_elements_by_xpath('//div[@class=\"_2WkVRV\"]')\n",
    "brand_tag1"
   ]
  },
  {
   "cell_type": "code",
   "execution_count": null,
   "id": "7d251ed1",
   "metadata": {},
   "outputs": [],
   "source": [
    "brand_name1 = []\n",
    "for b in brand_tag1:\n",
    "    brand_name1.append(b.text)\n",
    "    \n",
    "brand_name1"
   ]
  },
  {
   "cell_type": "code",
   "execution_count": null,
   "id": "412982fa",
   "metadata": {},
   "outputs": [],
   "source": [
    "len (brand_name1)"
   ]
  },
  {
   "cell_type": "code",
   "execution_count": null,
   "id": "3fe88344",
   "metadata": {},
   "outputs": [],
   "source": [
    "pro1 = driver.find_elements_by_xpath('//a[@class=\"IRpwTa\"]')\n",
    "\n",
    "pro1"
   ]
  },
  {
   "cell_type": "code",
   "execution_count": null,
   "id": "e1b6079c",
   "metadata": {},
   "outputs": [],
   "source": [
    "#Extracting the texts from the web elements of the product description.\n",
    "product_desc1 = []\n",
    "\n",
    "for p in pro1:\n",
    "    product_desc1.append(p.text)\n",
    "    \n",
    "product_desc1"
   ]
  },
  {
   "cell_type": "code",
   "execution_count": null,
   "id": "8d032dd6",
   "metadata": {},
   "outputs": [],
   "source": [
    "len(product_desc1)"
   ]
  },
  {
   "cell_type": "code",
   "execution_count": null,
   "id": "dcc65dc6",
   "metadata": {},
   "outputs": [],
   "source": [
    "price_tag = driver.find_elements_by_xpath('//div[@class=\"_30jeq3\"]')\n",
    "\n",
    "price_tag"
   ]
  },
  {
   "cell_type": "code",
   "execution_count": null,
   "id": "dd9f5525",
   "metadata": {},
   "outputs": [],
   "source": [
    "prices1 = []\n",
    "for p1 in price_tag:\n",
    "    prices1.append(p1.text)\n",
    "    \n",
    "prices1"
   ]
  },
  {
   "cell_type": "code",
   "execution_count": null,
   "id": "dcce1b53",
   "metadata": {},
   "outputs": [],
   "source": [
    "len(prices1)"
   ]
  },
  {
   "cell_type": "code",
   "execution_count": null,
   "id": "a83a756a",
   "metadata": {},
   "outputs": [],
   "source": [
    "nxt_btn1 = driver.find_element_by_xpath('//a[@class=\"_1LKTO3\"]')\n",
    "\n",
    "nxt_btn1.click()"
   ]
  },
  {
   "cell_type": "code",
   "execution_count": null,
   "id": "9664edd1",
   "metadata": {},
   "outputs": [],
   "source": [
    "brand_tag2 = driver.find_elements_by_xpath('//div[@class=\"_2WkVRV\"]')\n",
    "\n",
    "brand_tag2"
   ]
  },
  {
   "cell_type": "code",
   "execution_count": null,
   "id": "4cf971f0",
   "metadata": {},
   "outputs": [],
   "source": [
    "brand_name2 = []\n",
    "\n",
    "for b2 in brand_tag2:\n",
    "    brand_name2.append(b2.text)\n",
    "    \n",
    "brand_name2"
   ]
  },
  {
   "cell_type": "code",
   "execution_count": null,
   "id": "53a19e2c",
   "metadata": {},
   "outputs": [],
   "source": [
    "len(brand_name2)"
   ]
  },
  {
   "cell_type": "code",
   "execution_count": null,
   "id": "366d6b75",
   "metadata": {},
   "outputs": [],
   "source": [
    "pro2 = driver.find_elements_by_xpath('//a[@class=\"IRpwTa\"]')\n",
    "\n",
    "pro2"
   ]
  },
  {
   "cell_type": "code",
   "execution_count": null,
   "id": "f111b490",
   "metadata": {},
   "outputs": [],
   "source": [
    "product_desc2 = []\n",
    "\n",
    "for p in pro2:\n",
    "    product_desc2.append(p.text)\n",
    "    \n",
    "product_desc2"
   ]
  },
  {
   "cell_type": "code",
   "execution_count": null,
   "id": "d26541ea",
   "metadata": {},
   "outputs": [],
   "source": [
    "len(product_desc2)"
   ]
  },
  {
   "cell_type": "code",
   "execution_count": null,
   "id": "d06b89cc",
   "metadata": {},
   "outputs": [],
   "source": [
    "price_tag1 = driver.find_elements_by_xpath('//div[@class=\"_30jeq3\"]')\n",
    "\n",
    "price_tag1"
   ]
  },
  {
   "cell_type": "code",
   "execution_count": null,
   "id": "2024f824",
   "metadata": {},
   "outputs": [],
   "source": [
    "prices2 = []\n",
    "for p1 in price_tag1:\n",
    "    prices2.append(p1.text)\n",
    "    \n",
    "prices2"
   ]
  },
  {
   "cell_type": "code",
   "execution_count": null,
   "id": "69e7d93a",
   "metadata": {},
   "outputs": [],
   "source": [
    "len(prices2)"
   ]
  },
  {
   "cell_type": "code",
   "execution_count": null,
   "id": "682dbced",
   "metadata": {},
   "outputs": [],
   "source": [
    "nxt_btn2 = driver.find_element_by_xpath('//a[@class=\"_1LKTO3\"]')\n",
    "\n",
    "nxt_btn2.click()"
   ]
  },
  {
   "cell_type": "code",
   "execution_count": null,
   "id": "5a08b826",
   "metadata": {},
   "outputs": [],
   "source": [
    "brand_tag3 = driver.find_elements_by_xpath('//div[@class=\"_2WkVRV\"]')\n",
    "\n",
    "brand_tag3"
   ]
  },
  {
   "cell_type": "code",
   "execution_count": null,
   "id": "a30efb0c",
   "metadata": {},
   "outputs": [],
   "source": [
    "brand_name3 = []\n",
    "\n",
    "for b2 in brand_tag3:\n",
    "    brand_name3.append(b2.text)\n",
    "    \n",
    "brand_name3"
   ]
  },
  {
   "cell_type": "code",
   "execution_count": null,
   "id": "aad60f8a",
   "metadata": {},
   "outputs": [],
   "source": [
    "len(brand_name3[:20])"
   ]
  },
  {
   "cell_type": "code",
   "execution_count": null,
   "id": "9d97cd16",
   "metadata": {},
   "outputs": [],
   "source": [
    "pro3 = driver.find_elements_by_xpath('//a[@class=\"IRpwTa\"]')\n",
    "\n",
    "pro3"
   ]
  },
  {
   "cell_type": "code",
   "execution_count": null,
   "id": "e6fcd7f0",
   "metadata": {},
   "outputs": [],
   "source": [
    "product_desc3 = []\n",
    "\n",
    "for p in pro3:\n",
    "    product_desc3.append(p.text)\n",
    "    \n",
    "product_desc3"
   ]
  },
  {
   "cell_type": "code",
   "execution_count": null,
   "id": "aa9295a3",
   "metadata": {},
   "outputs": [],
   "source": [
    "price_tag2 = driver.find_elements_by_xpath('//div[@class=\"_30jeq3\"]')\n",
    "\n",
    "price_tag2"
   ]
  },
  {
   "cell_type": "code",
   "execution_count": null,
   "id": "f8a756d1",
   "metadata": {},
   "outputs": [],
   "source": [
    "prices3 = []\n",
    "for p1 in price_tag2:\n",
    "    prices3.append(p1.text)\n",
    "    \n",
    "prices3"
   ]
  },
  {
   "cell_type": "code",
   "execution_count": null,
   "id": "3ab65728",
   "metadata": {},
   "outputs": [],
   "source": [
    "brands = brand_name1 + brand_name2 + brand_name3[:20]\n",
    "\n",
    "brands"
   ]
  },
  {
   "cell_type": "code",
   "execution_count": null,
   "id": "5777ff89",
   "metadata": {},
   "outputs": [],
   "source": [
    "len(brands)"
   ]
  },
  {
   "cell_type": "code",
   "execution_count": null,
   "id": "4829a537",
   "metadata": {},
   "outputs": [],
   "source": [
    "description = product_desc1 + product_desc2 + product_desc3[:20]\n",
    "\n",
    "description"
   ]
  },
  {
   "cell_type": "code",
   "execution_count": null,
   "id": "e2742e20",
   "metadata": {},
   "outputs": [],
   "source": [
    "len(description)"
   ]
  },
  {
   "cell_type": "code",
   "execution_count": null,
   "id": "486a55e5",
   "metadata": {},
   "outputs": [],
   "source": [
    "price = prices1 + prices2 + prices3[:20]\n",
    "\n",
    "price"
   ]
  },
  {
   "cell_type": "code",
   "execution_count": null,
   "id": "cf12819a",
   "metadata": {},
   "outputs": [],
   "source": [
    "len(price)"
   ]
  },
  {
   "cell_type": "code",
   "execution_count": null,
   "id": "494e9ded",
   "metadata": {},
   "outputs": [],
   "source": [
    "sunglasses = pd.DataFrame({})\n",
    "\n",
    "sunglasses[' Brand Name '] = brands\n",
    "sunglasses[' Product Description '] = description\n",
    "sunglasses[' Prices '] = price\n",
    "\n",
    "sunglasses "
   ]
  },
  {
   "cell_type": "markdown",
   "id": "3e52df44",
   "metadata": {},
   "source": [
    "# Que 5"
   ]
  },
  {
   "cell_type": "code",
   "execution_count": null,
   "id": "6a6651ba",
   "metadata": {},
   "outputs": [],
   "source": [
    "import time"
   ]
  },
  {
   "cell_type": "code",
   "execution_count": null,
   "id": "40f76347",
   "metadata": {},
   "outputs": [],
   "source": [
    "url = \"https://www.flipkart.com/apple-iphone-11-black-64-gb-includes-earpods-power-adapter/product-reviews/itm0f37c2240b217?pid=MOBFKCTSVZAXUHGR&lid=LSTMOBFKCTSVZAXUHGREPBFGI&marketplace=FLIPKART\"\n",
    "driver.get(url)\n",
    "\n",
    "time.sleep(2)\n",
    "\n",
    "# Creating empty list\n",
    "urls=[]\n",
    "short_review=[]\n",
    "complete_review=[]\n",
    "stars=[]\n",
    "time.sleep(2)\n",
    "\n",
    "#scraping 10 pages url\n",
    "url_1 = driver.find_elements_by_xpath(\"//a[@class='ge-49M _2Kfbh8']\")\n",
    "for i in url_1:\n",
    "    urls.append(i.get_attribute('href'))\n",
    "url_2 = driver.find_elements_by_xpath(\"//a[@class='ge-49M']\")\n",
    "for i in url_2:\n",
    "    urls.append(i.get_attribute('href'))\n",
    "time.sleep(4)\n",
    "\n",
    "\n",
    "for i in urls:\n",
    "    driver.get(i)\n",
    "    #for scrapping the number of stars\n",
    "    for j in driver.find_elements_by_xpath(\"//div[@class='col _2wzgFH K0kLPL']/div[1]/div[1]\"):\n",
    "        stars.append(j.text)\n",
    "    #for scrapping the short review\n",
    "    for k in driver.find_elements_by_xpath(\"//p[@class='_2-N8zT']\"):\n",
    "        short_review.append(k.text)\n",
    "    #for scrapping the complete review\n",
    "    for l in driver.find_elements_by_xpath(\"//div[@class='t-ZTKy']/div/div\"):\n",
    "        complete_review.append(l.text)\n",
    "        \n",
    "        \n",
    "        \n",
    "#Combining all the lists into a single dataframe\n",
    "df=pd.DataFrame({'Number of Stars': stars,\n",
    "                'Short Review': short_review,\n",
    "               'Full Review': complete_review})\n",
    "df"
   ]
  },
  {
   "cell_type": "code",
   "execution_count": null,
   "id": "f8d0a3f7",
   "metadata": {},
   "outputs": [],
   "source": []
  },
  {
   "cell_type": "markdown",
   "id": "abf6d59c",
   "metadata": {},
   "source": [
    "# Que 6"
   ]
  },
  {
   "cell_type": "code",
   "execution_count": null,
   "id": "3509a481",
   "metadata": {},
   "outputs": [],
   "source": [
    "url6 = 'https://www.flipkart.com/'\n",
    "\n",
    "driver.get(url6)"
   ]
  },
  {
   "cell_type": "code",
   "execution_count": null,
   "id": "9efda098",
   "metadata": {},
   "outputs": [],
   "source": [
    "src_tag6 = driver.find_element_by_xpath('//input[@class=\"_3704LK\"]')\n",
    "\n",
    "src_tag6"
   ]
  },
  {
   "cell_type": "code",
   "execution_count": null,
   "id": "aba6795d",
   "metadata": {},
   "outputs": [],
   "source": [
    "src_tag6.send_keys('sneakers')"
   ]
  },
  {
   "cell_type": "code",
   "execution_count": null,
   "id": "4951c16f",
   "metadata": {},
   "outputs": [],
   "source": [
    "sr_bt = driver.find_element_by_xpath('//button[@class=\"L0Z3Pu\"]')\n",
    "\n",
    "sr_bt.click()"
   ]
  },
  {
   "cell_type": "code",
   "execution_count": null,
   "id": "0c53fb1a",
   "metadata": {},
   "outputs": [],
   "source": [
    "brand_tag61 = driver.find_elements_by_xpath('//div[@class=\"_2WkVRV\"]')\n",
    "brand_tag61"
   ]
  },
  {
   "cell_type": "code",
   "execution_count": null,
   "id": "d4f7d2bd",
   "metadata": {},
   "outputs": [],
   "source": [
    "brand_name16 = []\n",
    "for b in brand_tag61:\n",
    "    brand_name16.append(b.text)\n",
    "    \n",
    "brand_name16"
   ]
  },
  {
   "cell_type": "code",
   "execution_count": null,
   "id": "539b787d",
   "metadata": {},
   "outputs": [],
   "source": [
    "len(brand_name16)"
   ]
  },
  {
   "cell_type": "code",
   "execution_count": null,
   "id": "83c5a9dd",
   "metadata": {},
   "outputs": [],
   "source": [
    "pro61 = driver.find_elements_by_xpath('//a[@class=\"IRpwTa\"]')\n",
    "\n",
    "pro61"
   ]
  },
  {
   "cell_type": "code",
   "execution_count": null,
   "id": "219b0540",
   "metadata": {},
   "outputs": [],
   "source": [
    "product_desc111 = []\n",
    "\n",
    "for p in pro61:\n",
    "    product_desc111.append(p.text)\n",
    "    \n",
    "product_desc111"
   ]
  },
  {
   "cell_type": "code",
   "execution_count": null,
   "id": "3d21ae89",
   "metadata": {},
   "outputs": [],
   "source": [
    "len(product_desc111)"
   ]
  },
  {
   "cell_type": "code",
   "execution_count": null,
   "id": "bd3804c1",
   "metadata": {},
   "outputs": [],
   "source": [
    "price_tag21 = driver.find_elements_by_xpath('//div[@class=\"_30jeq3\"]')\n",
    "\n",
    "price_tag21"
   ]
  },
  {
   "cell_type": "code",
   "execution_count": null,
   "id": "46db811b",
   "metadata": {},
   "outputs": [],
   "source": [
    "prices311 = []\n",
    "for p1 in price_tag21:\n",
    "    prices311.append(p1.text)\n",
    "    \n",
    "prices311"
   ]
  },
  {
   "cell_type": "code",
   "execution_count": null,
   "id": "317b33e7",
   "metadata": {},
   "outputs": [],
   "source": [
    "len(prices311)"
   ]
  },
  {
   "cell_type": "code",
   "execution_count": null,
   "id": "f436d3e5",
   "metadata": {},
   "outputs": [],
   "source": [
    "disc_tag1 = driver.find_elements_by_xpath('//div[@class=\"_3Ay6Sb\"]')\n",
    "\n",
    "disc_tag1"
   ]
  },
  {
   "cell_type": "code",
   "execution_count": null,
   "id": "b1b57a7c",
   "metadata": {},
   "outputs": [],
   "source": [
    "discount1 = []\n",
    "for d3 in disc_tag1:\n",
    "    discount1.append(d3.text)\n",
    "    \n",
    "discount1"
   ]
  },
  {
   "cell_type": "code",
   "execution_count": null,
   "id": "7a6449c3",
   "metadata": {},
   "outputs": [],
   "source": [
    "len(discount1)"
   ]
  },
  {
   "cell_type": "code",
   "execution_count": null,
   "id": "fc4bd0da",
   "metadata": {},
   "outputs": [],
   "source": [
    "nxt_btn111 = driver.find_element_by_xpath('//a[@class=\"_1LKTO3\"]')\n",
    "\n",
    "nxt_btn111.click()"
   ]
  },
  {
   "cell_type": "code",
   "execution_count": null,
   "id": "9dd12c7d",
   "metadata": {},
   "outputs": [],
   "source": [
    "disc_tag2 = driver.find_elements_by_xpath('//div[@class=\"_3Ay6Sb\"]')\n",
    "\n",
    "disc_tag2"
   ]
  },
  {
   "cell_type": "code",
   "execution_count": null,
   "id": "8e24ff41",
   "metadata": {},
   "outputs": [],
   "source": [
    "discount2 = []\n",
    "for d3 in disc_tag2:\n",
    "    discount2.append(d3.text)\n",
    "    \n",
    "discount2"
   ]
  },
  {
   "cell_type": "code",
   "execution_count": null,
   "id": "6c69c19d",
   "metadata": {},
   "outputs": [],
   "source": [
    "len(discount2)"
   ]
  },
  {
   "cell_type": "code",
   "execution_count": null,
   "id": "8def46fb",
   "metadata": {},
   "outputs": [],
   "source": [
    "brand_tag611 = driver.find_elements_by_xpath('//div[@class=\"_2WkVRV\"]')\n",
    "brand_tag611"
   ]
  },
  {
   "cell_type": "code",
   "execution_count": null,
   "id": "f8772e05",
   "metadata": {},
   "outputs": [],
   "source": [
    "brand_name161 = []\n",
    "for b in brand_tag611:\n",
    "    brand_name161.append(b.text)\n",
    "    \n",
    "brand_name161"
   ]
  },
  {
   "cell_type": "code",
   "execution_count": null,
   "id": "d6d69694",
   "metadata": {},
   "outputs": [],
   "source": [
    "len(brand_name161)"
   ]
  },
  {
   "cell_type": "code",
   "execution_count": null,
   "id": "e383bcb7",
   "metadata": {},
   "outputs": [],
   "source": [
    "pro613 = driver.find_elements_by_xpath('//a[@class=\"IRpwTa\"]')\n",
    "\n",
    "pro613"
   ]
  },
  {
   "cell_type": "code",
   "execution_count": null,
   "id": "2dc5112b",
   "metadata": {},
   "outputs": [],
   "source": [
    "product_desc112 = []\n",
    "\n",
    "for p in pro613:\n",
    "    product_desc112.append(p.text)\n",
    "    \n",
    "product_desc112"
   ]
  },
  {
   "cell_type": "code",
   "execution_count": null,
   "id": "fc9ae821",
   "metadata": {},
   "outputs": [],
   "source": [
    "len(product_desc112)"
   ]
  },
  {
   "cell_type": "code",
   "execution_count": null,
   "id": "b8eabc5a",
   "metadata": {},
   "outputs": [],
   "source": [
    "price_tag211 = driver.find_elements_by_xpath('//div[@class=\"_30jeq3\"]')\n",
    "\n",
    "price_tag211"
   ]
  },
  {
   "cell_type": "code",
   "execution_count": null,
   "id": "f8928a90",
   "metadata": {},
   "outputs": [],
   "source": [
    "prices312 = []\n",
    "for p1 in price_tag211:\n",
    "    prices312.append(p1.text)\n",
    "    \n",
    "prices312"
   ]
  },
  {
   "cell_type": "code",
   "execution_count": null,
   "id": "219e070c",
   "metadata": {},
   "outputs": [],
   "source": [
    "len(prices312)"
   ]
  },
  {
   "cell_type": "code",
   "execution_count": null,
   "id": "6fd2bae5",
   "metadata": {},
   "outputs": [],
   "source": [
    "nxt_btn181 = driver.find_element_by_xpath('//a[@class=\"_1LKTO3\"]')\n",
    "\n",
    "nxt_btn181.click()"
   ]
  },
  {
   "cell_type": "code",
   "execution_count": null,
   "id": "ca4b0c1a",
   "metadata": {},
   "outputs": [],
   "source": [
    "brand_tag661 = driver.find_elements_by_xpath('//div[@class=\"_2WkVRV\"]')\n",
    "brand_tag661"
   ]
  },
  {
   "cell_type": "code",
   "execution_count": null,
   "id": "643cdfbd",
   "metadata": {},
   "outputs": [],
   "source": [
    "brand_name163 = []\n",
    "for b in brand_tag661:\n",
    "    brand_name163.append(b.text)\n",
    "    \n",
    "brand_name163[:20]"
   ]
  },
  {
   "cell_type": "code",
   "execution_count": null,
   "id": "9027c1c8",
   "metadata": {},
   "outputs": [],
   "source": [
    "len(brand_name163)"
   ]
  },
  {
   "cell_type": "code",
   "execution_count": null,
   "id": "968b775a",
   "metadata": {},
   "outputs": [],
   "source": [
    "pro614 = driver.find_elements_by_xpath('//a[@class=\"IRpwTa\"]')\n",
    "\n",
    "pro614"
   ]
  },
  {
   "cell_type": "code",
   "execution_count": null,
   "id": "1064da68",
   "metadata": {},
   "outputs": [],
   "source": [
    "product_desc122 = []\n",
    "\n",
    "for p in pro614:\n",
    "    product_desc122.append(p.text)\n",
    "    \n",
    "product_desc122[:20]"
   ]
  },
  {
   "cell_type": "code",
   "execution_count": null,
   "id": "0d67c935",
   "metadata": {},
   "outputs": [],
   "source": [
    "price_tag231 = driver.find_elements_by_xpath('//div[@class=\"_30jeq3\"]')\n",
    "\n",
    "price_tag231"
   ]
  },
  {
   "cell_type": "code",
   "execution_count": null,
   "id": "ad1cb36b",
   "metadata": {},
   "outputs": [],
   "source": [
    "prices3112 = []\n",
    "for p1 in price_tag231:\n",
    "    prices3112.append(p1.text)\n",
    "    \n",
    "prices3112[:20]"
   ]
  },
  {
   "cell_type": "code",
   "execution_count": null,
   "id": "773b19a5",
   "metadata": {},
   "outputs": [],
   "source": [
    "disc_tag3 = driver.find_elements_by_xpath('//div[@class=\"_3Ay6Sb\"]')\n",
    "\n",
    "disc_tag3"
   ]
  },
  {
   "cell_type": "code",
   "execution_count": null,
   "id": "fd1dff81",
   "metadata": {},
   "outputs": [],
   "source": [
    "discount3 = []\n",
    "for d3 in disc_tag3:\n",
    "    discount3.append(d3.text)\n",
    "    \n",
    "discount3[:20]"
   ]
  },
  {
   "cell_type": "code",
   "execution_count": null,
   "id": "e447c631",
   "metadata": {},
   "outputs": [],
   "source": [
    "BRANDS = brand_name161 + brand_name16 + brand_name163[:20]\n",
    "DESC = product_desc111 + product_desc112 + product_desc122[:20]\n",
    "PRIC = prices311 + prices312 + prices3112[:20]\n",
    "DISC = discount1 + discount2 + discount3[:20]"
   ]
  },
  {
   "cell_type": "code",
   "execution_count": null,
   "id": "2184cddf",
   "metadata": {},
   "outputs": [],
   "source": [
    "len(BRANDS)"
   ]
  },
  {
   "cell_type": "code",
   "execution_count": null,
   "id": "d8715f2d",
   "metadata": {},
   "outputs": [],
   "source": [
    "len(DESC)"
   ]
  },
  {
   "cell_type": "code",
   "execution_count": null,
   "id": "41b991d6",
   "metadata": {},
   "outputs": [],
   "source": [
    "sneaker_det = pd.DataFrame({})\n",
    "\n",
    "sneaker_det[' Sneaker Brand Name '] = BRANDS\n",
    "sneaker_det[' Sneaker Short Description '] = DESC\n",
    "sneaker_det[' Sneaker Prices '] = PRIC\n",
    "sneaker_det[' sneaker Discount '] = DISC\n",
    "\n",
    "sneaker_det"
   ]
  },
  {
   "cell_type": "markdown",
   "id": "c6b95230",
   "metadata": {},
   "source": [
    "# Que 7"
   ]
  },
  {
   "cell_type": "code",
   "execution_count": null,
   "id": "2c1820ca",
   "metadata": {},
   "outputs": [],
   "source": [
    "url7 = 'https://www.myntra.com/shoes'\n",
    "\n",
    "driver.get(url7)"
   ]
  },
  {
   "cell_type": "code",
   "execution_count": null,
   "id": "f802168d",
   "metadata": {},
   "outputs": [],
   "source": [
    "p_filter = driver.find_element_by_xpath('/html/body/div[2]/div/div[1]/main/div[3]/div[1]/section/div/div[5]/ul/li[2]/label/div')\n",
    "\n",
    "p_filter.click()"
   ]
  },
  {
   "cell_type": "code",
   "execution_count": null,
   "id": "c99f90d2",
   "metadata": {},
   "outputs": [],
   "source": [
    "c_filter = driver.find_element_by_xpath('/html/body/div[2]/div/div[1]/main/div[3]/div[1]/section/div/div[6]/ul/li[1]/label/div')\n",
    "\n",
    "c_filter.click()"
   ]
  },
  {
   "cell_type": "code",
   "execution_count": null,
   "id": "0f9c846e",
   "metadata": {},
   "outputs": [],
   "source": [
    "brand_tagg1 = driver.find_elements_by_xpath('//h3[@class=\"product-brand\"]')\n",
    "\n",
    "brand_tagg1"
   ]
  },
  {
   "cell_type": "code",
   "execution_count": null,
   "id": "778b431b",
   "metadata": {},
   "outputs": [],
   "source": [
    "b_name1 = []\n",
    "\n",
    "for b1 in brand_tagg1:\n",
    "    b_name1.append(b1.text)\n",
    "    \n",
    "b_name1"
   ]
  },
  {
   "cell_type": "code",
   "execution_count": null,
   "id": "38eac56d",
   "metadata": {},
   "outputs": [],
   "source": [
    "len(b_name1)"
   ]
  },
  {
   "cell_type": "code",
   "execution_count": null,
   "id": "03da092f",
   "metadata": {},
   "outputs": [],
   "source": [
    "p_describtion_tag1 = driver.find_elements_by_xpath('//h4[@class=\"product-product\"]')\n",
    "\n",
    "p_describtion_tag1"
   ]
  },
  {
   "cell_type": "code",
   "execution_count": null,
   "id": "37d9c44d",
   "metadata": {},
   "outputs": [],
   "source": [
    "# Extracting the texts from the web-elements of the short description.\n",
    "\n",
    "p_desc1 = []\n",
    "\n",
    "for p1 in p_describtion_tag1:\n",
    "    p_desc1.append(p1.text)\n",
    "    \n",
    "p_desc1"
   ]
  },
  {
   "cell_type": "code",
   "execution_count": null,
   "id": "d4f1757b",
   "metadata": {},
   "outputs": [],
   "source": [
    "len(p_desc1)"
   ]
  },
  {
   "cell_type": "code",
   "execution_count": null,
   "id": "c38eeaf5",
   "metadata": {},
   "outputs": [],
   "source": [
    "p_price_tag1 = driver.find_elements_by_xpath('//div[@class=\"product-price\"]')\n",
    "\n",
    "p_price_tag1"
   ]
  },
  {
   "cell_type": "code",
   "execution_count": null,
   "id": "63b955a9",
   "metadata": {},
   "outputs": [],
   "source": [
    "# Extracting the texts from the web-elements of the product prices.\n",
    "\n",
    "prices17 = []\n",
    "\n",
    "for p1 in p_price_tag1:\n",
    "    prices17.append(p1.text)\n",
    "    \n",
    "prices17"
   ]
  },
  {
   "cell_type": "code",
   "execution_count": null,
   "id": "7d49e489",
   "metadata": {},
   "outputs": [],
   "source": [
    "len(prices17)"
   ]
  },
  {
   "cell_type": "code",
   "execution_count": null,
   "id": "8be49bd2",
   "metadata": {},
   "outputs": [],
   "source": [
    "# Visiting the next page. For this we'll extract the web-element of the next page button.\n",
    "\n",
    "next_page = driver.find_element_by_xpath('//*[@id=\"desktopSearchResults\"]/div[2]/section/div[2]/ul/li[12]/a')\n",
    "\n",
    "next_page.click()"
   ]
  },
  {
   "cell_type": "code",
   "execution_count": null,
   "id": "3dc035d8",
   "metadata": {},
   "outputs": [],
   "source": [
    "brand_tagg2 = driver.find_elements_by_xpath('//h3[@class=\"product-brand\"]')\n",
    "\n",
    "brand_tagg2"
   ]
  },
  {
   "cell_type": "code",
   "execution_count": null,
   "id": "c42dfefc",
   "metadata": {},
   "outputs": [],
   "source": [
    "# Extracting the texts from the web-elements of the brand names listed on the 2nd page.\n",
    "\n",
    "b_name2 = []\n",
    "\n",
    "for b2 in brand_tagg2:\n",
    "    b_name2.append(b2.text)\n",
    "    \n",
    "b_name2"
   ]
  },
  {
   "cell_type": "code",
   "execution_count": null,
   "id": "2afcb8c7",
   "metadata": {},
   "outputs": [],
   "source": [
    "len(b_name2)"
   ]
  },
  {
   "cell_type": "code",
   "execution_count": null,
   "id": "feb22353",
   "metadata": {},
   "outputs": [],
   "source": [
    "brands = b_name1 + b_name2\n",
    "\n",
    "brands"
   ]
  },
  {
   "cell_type": "code",
   "execution_count": null,
   "id": "f8efca8e",
   "metadata": {},
   "outputs": [],
   "source": [
    "len(brands)"
   ]
  },
  {
   "cell_type": "code",
   "execution_count": null,
   "id": "db29090d",
   "metadata": {},
   "outputs": [],
   "source": [
    "p_describtion_tag2 = driver.find_elements_by_xpath('//h4[@class=\"product-product\"]')\n",
    "\n",
    "p_describtion_tag2"
   ]
  },
  {
   "cell_type": "code",
   "execution_count": null,
   "id": "4495a517",
   "metadata": {},
   "outputs": [],
   "source": [
    "p_desc2 = []\n",
    "\n",
    "for p2 in p_describtion_tag2:\n",
    "    p_desc2.append(p2.text)\n",
    "    \n",
    "p_desc2"
   ]
  },
  {
   "cell_type": "code",
   "execution_count": null,
   "id": "516325b4",
   "metadata": {},
   "outputs": [],
   "source": [
    "len(p_desc2)"
   ]
  },
  {
   "cell_type": "code",
   "execution_count": null,
   "id": "f5c0a5d7",
   "metadata": {},
   "outputs": [],
   "source": [
    "p_descriptions = p_desc1 + p_desc2\n",
    "\n",
    "p_descriptions"
   ]
  },
  {
   "cell_type": "code",
   "execution_count": null,
   "id": "1be4d95e",
   "metadata": {},
   "outputs": [],
   "source": [
    "p_price_tag2 = driver.find_elements_by_xpath('//div[@class=\"product-price\"]')\n",
    "\n",
    "p_price_tag2"
   ]
  },
  {
   "cell_type": "code",
   "execution_count": null,
   "id": "e4b53162",
   "metadata": {},
   "outputs": [],
   "source": [
    "# Extracting the texts from the web-elements of the product prices listed on the 2nd page.\n",
    "\n",
    "prices29 = []\n",
    "\n",
    "for p2 in p_price_tag2:\n",
    "    prices29.append(p2.text)\n",
    "    \n",
    "prices29"
   ]
  },
  {
   "cell_type": "code",
   "execution_count": null,
   "id": "c25b8fbd",
   "metadata": {},
   "outputs": [],
   "source": [
    "prices = prices17 + prices29\n",
    "\n",
    "prices"
   ]
  },
  {
   "cell_type": "code",
   "execution_count": null,
   "id": "94cccd2b",
   "metadata": {},
   "outputs": [],
   "source": [
    "len(prices)"
   ]
  },
  {
   "cell_type": "code",
   "execution_count": null,
   "id": "5c8ab632",
   "metadata": {},
   "outputs": [],
   "source": [
    "df9 = pd.DataFrame({})\n",
    "\n",
    "df9[' Brand Name ']= brands\n",
    "df9[' Short Shoe Description '] = p_descriptions\n",
    "df9[' Shoe Price ']= prices\n",
    "\n",
    "df9"
   ]
  },
  {
   "cell_type": "markdown",
   "id": "a8f059e7",
   "metadata": {},
   "source": [
    "# Que 8"
   ]
  },
  {
   "cell_type": "code",
   "execution_count": null,
   "id": "a4cc8937",
   "metadata": {},
   "outputs": [],
   "source": [
    "url8 = 'https://www.amazon.in/'\n",
    "\n",
    "driver.get(url8)"
   ]
  },
  {
   "cell_type": "code",
   "execution_count": null,
   "id": "c7ba1a7c",
   "metadata": {},
   "outputs": [],
   "source": [
    "# Entering 'Laptops' in the search bar.\n",
    "\n",
    "src_tag10 = driver.find_element_by_xpath('//input[@id=\"twotabsearchtextbox\"]')\n",
    "\n",
    "src_tag10.send_keys('Laptops')"
   ]
  },
  {
   "cell_type": "code",
   "execution_count": null,
   "id": "c88a1899",
   "metadata": {},
   "outputs": [],
   "source": [
    "# Extracting the web-element of the search button and clicking on it to get the desired results.\n",
    "\n",
    "src_btn10 = driver.find_element_by_xpath('//input[@id=\"nav-search-submit-button\"]')\n",
    "\n",
    "src_btn10.click()"
   ]
  },
  {
   "cell_type": "markdown",
   "id": "9d4145f2",
   "metadata": {},
   "source": [
    "I9 is not availanle and i7 is available,\n",
    "\n",
    "i7 filteris applied"
   ]
  },
  {
   "cell_type": "code",
   "execution_count": null,
   "id": "359c0c64",
   "metadata": {},
   "outputs": [],
   "source": [
    "ps_filter = driver.find_element_by_xpath('/html/body/div[1]/div[2]/div[1]/div[2]/div/div[3]/span/div[1]/div/div/div[6]/ul[4]/li[12]/span/a/div/label/i')\n",
    "\n",
    "ps_filter.click()"
   ]
  },
  {
   "cell_type": "code",
   "execution_count": null,
   "id": "4ed6f903",
   "metadata": {},
   "outputs": [],
   "source": [
    "laptop_title_tag = driver.find_elements_by_xpath('//span[@class=\"a-size-medium a-color-base a-text-normal\"]')\n",
    "\n",
    "laptop_title_tag"
   ]
  },
  {
   "cell_type": "code",
   "execution_count": null,
   "id": "c0a3604c",
   "metadata": {},
   "outputs": [],
   "source": [
    "# Extracting the texts from the web-elements of the titles.\n",
    "\n",
    "title = []\n",
    "\n",
    "for t10 in laptop_title_tag:\n",
    "    title.append(t10.text)\n",
    "    \n",
    "title"
   ]
  },
  {
   "cell_type": "code",
   "execution_count": null,
   "id": "d3157b66",
   "metadata": {},
   "outputs": [],
   "source": [
    "# Selecting first 10 laptops titles.\n",
    "\n",
    "titles10 = title[:10]\n",
    "\n",
    "titles10"
   ]
  },
  {
   "cell_type": "code",
   "execution_count": null,
   "id": "6be4c866",
   "metadata": {},
   "outputs": [],
   "source": [
    "len(titles10)"
   ]
  },
  {
   "cell_type": "code",
   "execution_count": null,
   "id": "80f9acd5",
   "metadata": {},
   "outputs": [],
   "source": [
    "# To extract the ratings of the laptops firstly we'll extract the page urls of every laptop.\n",
    "\n",
    "laptop_ratings_urls = []\n",
    "\n",
    "url10 = driver.find_elements_by_xpath('//h2[@class=\"a-size-mini a-spacing-none a-color-base s-line-clamp-2\"]//a')\n",
    "for u10 in url10:\n",
    "    laptop_ratings_urls.append(u10.get_attribute('href'))\n",
    "    \n",
    "laptop_ratings_urls"
   ]
  },
  {
   "cell_type": "code",
   "execution_count": null,
   "id": "95d046ac",
   "metadata": {},
   "outputs": [],
   "source": [
    "# Extracting texts from the page urls of the laptops.\n",
    "\n",
    "rating10 = []\n",
    "\n",
    "for r10 in laptop_ratings_urls:\n",
    "    driver.get(r10)\n",
    "    time.sleep(10)\n",
    "    try:\n",
    "        ratings_tag10 = driver.find_element_by_xpath('//span[@class=\"a-size-medium a-color-base\"]')\n",
    "        rating10.append(ratings_tag10.text)\n",
    "    except:\n",
    "        pass\n",
    "rating10"
   ]
  },
  {
   "cell_type": "code",
   "execution_count": null,
   "id": "ad41f874",
   "metadata": {},
   "outputs": [],
   "source": [
    "rating10 = rating10[:10]\n",
    "\n",
    "rating10"
   ]
  },
  {
   "cell_type": "code",
   "execution_count": null,
   "id": "818b28c6",
   "metadata": {},
   "outputs": [],
   "source": [
    "# Extracting the web elements of the prices.\n",
    "\n",
    "laptop_p_tag = driver.find_elements_by_xpath('//span[@class=\"a-price-whole\"]')\n",
    "\n",
    "laptop_p_tag"
   ]
  },
  {
   "cell_type": "code",
   "execution_count": null,
   "id": "57b3b9c5",
   "metadata": {},
   "outputs": [],
   "source": [
    "# Extracting text from the web elements of the prices.\n",
    "\n",
    "laptop_price = []\n",
    "\n",
    "for lp in laptop_p_tag:\n",
    "    laptop_price.append(lp.text)\n",
    "    \n",
    "laptop_price"
   ]
  },
  {
   "cell_type": "code",
   "execution_count": null,
   "id": "c5201e98",
   "metadata": {},
   "outputs": [],
   "source": [
    "laptop_prices = laptop_price[:10]\n",
    "\n",
    "laptop_prices"
   ]
  },
  {
   "cell_type": "code",
   "execution_count": null,
   "id": "87eb3e0b",
   "metadata": {},
   "outputs": [],
   "source": [
    "laptops10 = pd.DataFrame({})\n",
    "\n",
    "laptops10['Laptop Title ']= titles10\n",
    "laptops10['Laptop Rating']= rating10\n",
    "laptops10['Laptop Price']=laptop_prices\n",
    "laptops10"
   ]
  },
  {
   "cell_type": "markdown",
   "id": "074f1865",
   "metadata": {},
   "source": [
    "# Que9"
   ]
  },
  {
   "cell_type": "code",
   "execution_count": null,
   "id": "181f74bb",
   "metadata": {},
   "outputs": [],
   "source": [
    "m = 'https://www.ambitionbox.com/'\n",
    "\n",
    "driver.get(m)"
   ]
  },
  {
   "cell_type": "code",
   "execution_count": null,
   "id": "f009e17a",
   "metadata": {},
   "outputs": [],
   "source": [
    "job_filter = driver.find_element_by_xpath('/html/body/div[1]/nav/nav/a[6]')\n",
    "\n",
    "job_filter.click()"
   ]
  },
  {
   "cell_type": "code",
   "execution_count": null,
   "id": "40e45721",
   "metadata": {},
   "outputs": [],
   "source": [
    "ambi_search = driver.find_element_by_xpath('/html/body/div/div/div/div[2]/div[1]/div/div/div/div/span/input')\n",
    "ambi_search"
   ]
  },
  {
   "cell_type": "code",
   "execution_count": null,
   "id": "d222fa0b",
   "metadata": {},
   "outputs": [],
   "source": [
    "ambi_search.send_keys('Data Scientist')"
   ]
  },
  {
   "cell_type": "code",
   "execution_count": null,
   "id": "df4e319b",
   "metadata": {},
   "outputs": [],
   "source": [
    "ammbi = driver.find_element_by_xpath ('/html/body/div/div/div/div[2]/div[1]/div/div/div/button/span')\n",
    "\n",
    "ammbi.click()"
   ]
  },
  {
   "cell_type": "code",
   "execution_count": null,
   "id": "6ab6b9aa",
   "metadata": {},
   "outputs": [],
   "source": [
    "ambi_loc = driver.find_element_by_xpath('/html/body/div/div/div/div[2]/div[2]/div[1]/div/div/div/div[2]/div[2]/div/div[2]/input')"
   ]
  },
  {
   "cell_type": "code",
   "execution_count": null,
   "id": "f70bfe65",
   "metadata": {},
   "outputs": [],
   "source": [
    "ambi_loc.send_keys('Noida')"
   ]
  },
  {
   "cell_type": "code",
   "execution_count": null,
   "id": "da5411f6",
   "metadata": {},
   "outputs": [],
   "source": [
    "ammm = driver.find_element_by_xpath('/html/body/div/div/div/div[2]/div[2]/div[1]/div/div/div/div[2]/div[2]/div/div[3]/div[1]/div[1]/div/label')"
   ]
  },
  {
   "cell_type": "code",
   "execution_count": null,
   "id": "7bc41cfe",
   "metadata": {},
   "outputs": [],
   "source": [
    "ammm.click()"
   ]
  },
  {
   "cell_type": "code",
   "execution_count": null,
   "id": "420615d7",
   "metadata": {},
   "outputs": [],
   "source": [
    "# Extracting company name:\n",
    "\n",
    "company_name=[]\n",
    "name_tags=driver.find_elements_by_xpath('//p[@class=\"company body-medium\"]')\n",
    "for i in name_tags:\n",
    "    company_name.append(i.text)\n",
    "    \n",
    "print(company_name[0:10])  "
   ]
  },
  {
   "cell_type": "code",
   "execution_count": null,
   "id": "9bc8e9ef",
   "metadata": {},
   "outputs": [],
   "source": [
    "# Extracting the no. of days ago when job was posted\n",
    "\n",
    "days_ago=[]\n",
    "days_tags=driver.find_elements_by_xpath('//span[@class=\"body-small-l\"]')\n",
    "for i in days_tags:\n",
    "    days_ago.append(i.text)\n",
    "        \n",
    "for j in days_ago:\n",
    "    if j==\"via naukri.com\":\n",
    "        days_ago.remove(j)\n",
    "        \n",
    "print(days_ago[0:10])"
   ]
  },
  {
   "cell_type": "code",
   "execution_count": null,
   "id": "c942f59a",
   "metadata": {},
   "outputs": [],
   "source": [
    "# Extracting rating of the company\n",
    "\n",
    "rating=[]\n",
    "rating_tags=driver.find_elements_by_xpath('//span[@class=\"body-small\"]')\n",
    "for i in rating_tags:\n",
    "    rating.append(i.text)\n",
    "    \n",
    "print(rating[0:10]) "
   ]
  },
  {
   "cell_type": "code",
   "execution_count": null,
   "id": "df908c95",
   "metadata": {},
   "outputs": [],
   "source": [
    "import numpy as np"
   ]
  },
  {
   "cell_type": "code",
   "execution_count": null,
   "id": "77391203",
   "metadata": {},
   "outputs": [],
   "source": [
    "company_name_10=company_name[0:10]\n",
    "days_ago_10=days_ago[0:10]\n",
    "rating_10=rating[0:10]\n",
    "\n",
    "df=pd.DataFrame({\"Company Name\":company_name_10,\" No. of days ago when job was posted\":days_ago_10,\"Rating of the Company\":rating_10})\n",
    "df.index=np.arange(1,len(df)+1)\n",
    "df"
   ]
  },
  {
   "cell_type": "markdown",
   "id": "3136dcf3",
   "metadata": {},
   "source": [
    "# Que10"
   ]
  },
  {
   "cell_type": "code",
   "execution_count": 366,
   "id": "b48c12ec",
   "metadata": {},
   "outputs": [],
   "source": [
    "urrl=\"https://www.ambitionbox.com/\"\n",
    "driver.get(urrl)"
   ]
  },
  {
   "cell_type": "code",
   "execution_count": null,
   "id": "13a3ea81",
   "metadata": {},
   "outputs": [],
   "source": [
    "salarry_btn=driver.find_element_by_xpath(\"/html/body/div[1]/nav/nav/a[4]\")\n",
    "salarry_btn.click()"
   ]
  },
  {
   "cell_type": "code",
   "execution_count": null,
   "id": "4c774685",
   "metadata": {},
   "outputs": [],
   "source": [
    "joob_profile=driver.find_element_by_xpath(\"/html/body/div/div/div/main/section[1]/div[2]/div[1]/span/input\")\n",
    "joob_profile.send_keys(\"Data Scientist\")"
   ]
  },
  {
   "cell_type": "code",
   "execution_count": null,
   "id": "e292dc7f",
   "metadata": {},
   "outputs": [],
   "source": [
    "# Extracting company name\n",
    "\n",
    "company_name=[]\n",
    "\n",
    "name_tag=driver.find_elements_by_xpath('//div[@class=\"name\"]')\n",
    "for i in name_tag:\n",
    "    child=i.find_element_by_tag_name(\"a\")\n",
    "    company_name.append(child.text)\n",
    "    \n",
    "company_name_10=company_name[0:10]\n",
    "company_name_10"
   ]
  },
  {
   "cell_type": "code",
   "execution_count": null,
   "id": "ba2a7e2f",
   "metadata": {},
   "outputs": [],
   "source": [
    "# Extracting total salary record\n",
    "\n",
    "sal_record=[]\n",
    "sal_record_tag=driver.find_elements_by_xpath('//div[@class=\"name\"]')\n",
    "for i in sal_record_tag:\n",
    "    child=i.find_element_by_tag_name(\"span\")\n",
    "    sal_record.append(child.text)\n",
    "    \n",
    "sal_record_10=sal_record[0:10]\n",
    "sal_record_10"
   ]
  },
  {
   "cell_type": "code",
   "execution_count": null,
   "id": "839fd5f5",
   "metadata": {},
   "outputs": [],
   "source": [
    "# Extracting average salary\n",
    "\n",
    "avg_sal=[]\n",
    "avg_sal_tag=driver.find_elements_by_xpath(\"//p[@class='averageCtc']\")\n",
    "for i in avg_sal_tag:\n",
    "    avg_sal.append(i.text)\n",
    "    \n",
    "avg_sal_10=avg_sal[0:10]\n",
    "avg_sal_10"
   ]
  },
  {
   "cell_type": "code",
   "execution_count": null,
   "id": "11c5ee6e",
   "metadata": {},
   "outputs": [],
   "source": [
    "# Extracting minimum and maximum salary\n",
    "\n",
    "sal=[]\n",
    "sal_tag=driver.find_elements_by_xpath(\"//div[@class='value body-medium']\")\n",
    "for i in sal_tag:\n",
    "    sal.append(i.text)\n",
    "    \n",
    "min_sal=sal[0::2]\n",
    "max_sal=sal[1::2]\n",
    "    \n",
    "min_sal_10=min_sal[0:10]\n",
    "max_sal_10=max_sal[0:10]\n",
    "\n",
    "print(min_sal_10)\n",
    "print(max_sal_10)"
   ]
  },
  {
   "cell_type": "code",
   "execution_count": null,
   "id": "6b944752",
   "metadata": {},
   "outputs": [],
   "source": [
    "# Extracting experience required\n",
    "\n",
    "exp=[]\n",
    "exp_tag=driver.find_elements_by_xpath(\"//div[@class='salaries sbold-list-header']\")\n",
    "for i in exp_tag:\n",
    "    exp.append(i.text.replace(\"Data Scientist\\n . \\n\",\"\"))\n",
    "    \n",
    "exp_10=exp[0:10]\n",
    "exp_10"
   ]
  },
  {
   "cell_type": "code",
   "execution_count": null,
   "id": "0dfb527c",
   "metadata": {},
   "outputs": [],
   "source": [
    "df=pd.DataFrame({\"Company Name\":company_name_10,\"Total Salary Record\":sal_record_10,\"Average Salary\":avg_sal_10,\"Minimum Salary\":min_sal_10,\"Maximum Salary\":max_sal_10,\"Experience Required\":exp_10})\n",
    "df.index=np.arange(1,len(df)+1)\n",
    "\n",
    "df"
   ]
  }
 ],
 "metadata": {
  "kernelspec": {
   "display_name": "Python 3",
   "language": "python",
   "name": "python3"
  },
  "language_info": {
   "codemirror_mode": {
    "name": "ipython",
    "version": 3
   },
   "file_extension": ".py",
   "mimetype": "text/x-python",
   "name": "python",
   "nbconvert_exporter": "python",
   "pygments_lexer": "ipython3",
   "version": "3.8.8"
  }
 },
 "nbformat": 4,
 "nbformat_minor": 5
}
