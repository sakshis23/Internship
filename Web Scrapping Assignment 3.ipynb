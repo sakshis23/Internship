{
 "cells": [
  {
   "cell_type": "markdown",
   "id": "ef3f14ec",
   "metadata": {},
   "source": [
    "# Importing necessary libraries"
   ]
  },
  {
   "cell_type": "code",
   "execution_count": null,
   "id": "c2e44162",
   "metadata": {},
   "outputs": [],
   "source": [
    "import pandas as pd\n",
    "import selenium\n",
    "import time\n",
    "from bs4 import BeautifulSoup \n",
    "from selenium import webdriver\n",
    "from selenium.webdriver.common.by import By\n",
    "from selenium.common.exceptions import StaleElementReferenceException, NoSuchElementException\n",
    "import requests\n",
    "import re\n",
    "from selenium.webdriver.common.by import By"
   ]
  },
  {
   "cell_type": "code",
   "execution_count": null,
   "id": "a6dae9d6",
   "metadata": {},
   "outputs": [],
   "source": [
    "#Connecting to webdriver\n",
    "driver = webdriver.Chrome(r\"C:\\Users\\dell\\Downloads\\chromedriver_win32\\chromedriver.exe\")\n",
    "\n",
    "# getting webpage\n",
    "driver.get(\"https://www.amazon.in/\")\n",
    "driver.maximize_window()"
   ]
  },
  {
   "cell_type": "code",
   "execution_count": null,
   "id": "2ba4bff6",
   "metadata": {},
   "outputs": [],
   "source": [
    "#Ask the user to \"Enter the product\"\n",
    "\n",
    "user_input = input('Enter the product you want to search : ')"
   ]
  },
  {
   "cell_type": "code",
   "execution_count": null,
   "id": "51f52af0",
   "metadata": {},
   "outputs": [],
   "source": [
    "#Search the user input product\n",
    "\n",
    "search_bar = driver.find_element_by_id(\"twotabsearchtextbox\")    \n",
    "search_bar.clear()                                               \n",
    "search_bar.send_keys(user_input)                                   \n",
    "search_button = driver.find_element_by_xpath('//div[@class=\"nav-search-submit nav-sprite\"]/span/input') \n",
    "search_button.click() "
   ]
  },
  {
   "cell_type": "code",
   "execution_count": null,
   "id": "b55186ed",
   "metadata": {},
   "outputs": [],
   "source": [
    "#driver.close()"
   ]
  },
  {
   "cell_type": "markdown",
   "id": "0c50b5f2",
   "metadata": {},
   "source": [
    "# Que 2"
   ]
  },
  {
   "cell_type": "code",
   "execution_count": null,
   "id": "319ff91d",
   "metadata": {},
   "outputs": [],
   "source": [
    "#Scraping details of first 3 pages\n",
    "\n",
    "#Creating empty list for \"Brand Name\", \"Name of the Product\", \"Price\", \"Return/Exchange\", \"Expected Delivery\", \"Availability\" and “Product URL”.\n",
    "\n",
    "b_name=[]\n",
    "product_name=[]\n",
    "rating=[]\n",
    "no_of_rating=[]\n",
    "price=[]\n",
    "ret_exchange=[]\n",
    "exp_delivery=[]\n",
    "availability=[]\n",
    "other_details=[]\n",
    "product_url=[]\n",
    "urls=[]\n",
    "\n",
    "\n",
    "for i in range(0,3):\n",
    "    if i>2:\n",
    "        break\n",
    "    p_urls=driver.find_elements(By.XPATH,\"//h2[@class='a-size-mini a-spacing-none a-color-base s-line-clamp-2']/a\")\n",
    "    for i in p_urls:\n",
    "        urls.append(i.get_attribute('href'))\n",
    "    \n",
    "\n",
    "    for i in urls:\n",
    "        driver.get(i)\n",
    "        time.sleep(2)\n",
    "        \n",
    "        \n",
    "    #Scraping data for brand name\n",
    "    \n",
    "        try:\n",
    "            bran=driver.find_element(By.XPATH,\"//a[@id='bylineInfo']\")\n",
    "            b_name.append(bran.text)\n",
    "        except NoSuchElementException as e:\n",
    "            b_name.append(\"--\")\n",
    "            \n",
    "\n",
    "    #Scraping data for product name\n",
    "    \n",
    "        try:\n",
    "            prod=driver.find_element(By.XPATH,\"//h1[@id='title']/span\")\n",
    "            product_name.append(prod.text)\n",
    "        except NoSuchElementException as e:\n",
    "            product_name.append(\"--\")\n",
    "\n",
    "            \n",
    "    #Scraping data for rating\n",
    "    \n",
    "        try:\n",
    "            rat=driver.find_element(By.XPATH,\"//span[@id='acrPopover']/span/a/i/span\")\n",
    "            rating.append(rat.text)\n",
    "        except NoSuchElementException as e:\n",
    "            rating.append(\"--\")\n",
    "\n",
    "            \n",
    "        \n",
    "    #Scraping data for rating no.\n",
    "        try:\n",
    "            rat_no=driver.find_element(By.XPATH,\"//span[@id='acrCustomerReviewText']\")\n",
    "            no_of_rating.append(rat_no.text)\n",
    "        except NoSuchElementException as e:\n",
    "            no_of_rating.append(\"--\")\n",
    "\n",
    "            \n",
    "            \n",
    "    #Scraping data for price\n",
    "    \n",
    "        try:\n",
    "            pri=driver.find_element(By.XPATH,\"//div[@id='apex_desktop']/div/div/table/tbody/tr[2]/td[2]/span/span[2]\")\n",
    "            price.append(pri.text)\n",
    "        except NoSuchElementException as e:\n",
    "            price.append(\"--\")\n",
    "\n",
    "            \n",
    "        \n",
    "    #Scaping data for return\n",
    "        try:\n",
    "            retu=driver.find_element(By.XPATH,\"//div[@id='RETURNS_POLICY']/span/div[2]/a\")\n",
    "            ret_exchange.append(retu.text)\n",
    "        except NoSuchElementException as e:\n",
    "            ret_exchange.append(\"--\")\n",
    "            \n",
    "            \n",
    "\n",
    "    #Scraping data for expected delivery\n",
    "    \n",
    "        try:\n",
    "            deliv=driver.find_element(By.XPATH,\"//div[@id='ddmDeliveryMessage']/b\")\n",
    "            exp_delivery.append(deliv.text)\n",
    "        except NoSuchElementException as e:\n",
    "            exp_delivery.append(\"--\")\n",
    "            \n",
    "            \n",
    "\n",
    "    #Scraping data for availability\n",
    "    \n",
    "        try:\n",
    "            avail=driver.find_element(By.XPATH,\"//div[@id='availability']/span\")\n",
    "            availability.append(avail.text)\n",
    "        except NoSuchElementException as e:\n",
    "            availability.append(\"--\")\n",
    "            \n",
    "            \n",
    "\n",
    "    #Scraping data for other details\n",
    "        try:\n",
    "            od=driver.find_element(By.XPATH,\"//div[@id='feature-bullets']/ul/li/span\")\n",
    "            other_details.append(od.text)\n",
    "        except NoSuchElementException as e:\n",
    "            other_details.append(\"--\")\n",
    "     \n",
    "    \n",
    "    \n",
    "   #Selecting and clicking next page\n",
    "\n",
    "    try:\n",
    "        if i==1:\n",
    "            n_button=driver.find_element(By.XPATH,\"//div[@class='a-section a-spacing-none a-padding-base']/div/ul/li[3]/a\")\n",
    "            n_url=n_button.get_attribute('href')\n",
    "            driver.get(n_url)\n",
    "            time.sleep(2)\n",
    "    except:\n",
    "        if i==2:\n",
    "            n_button=driver.find_element(By.XPATH,\"//div[@class='a-section a-spacing-none a-padding-base']/div/ul/li[4]/a\")\n",
    "            n_url=n_button.get_attribute('href')\n",
    "            driver.get(n_url)"
   ]
  },
  {
   "cell_type": "code",
   "execution_count": null,
   "id": "dd316176",
   "metadata": {},
   "outputs": [],
   "source": [
    "#Placing everything into dataframe\n",
    "df=pd.DataFrame(list(zip(b_name,product_name,rating,no_of_rating,price,ret_exchange,exp_delivery,availability,other_details,urls)),columns=[\"Brand Name\",\"Product\",\"Rating\",\"No. of rating\",\"Price\",\"Return/Exchange\",\"Expected Delivery\",\"Availability\",\"Other Details\",\"Product Url\"])\n",
    "df"
   ]
  },
  {
   "cell_type": "code",
   "execution_count": null,
   "id": "ce150046",
   "metadata": {},
   "outputs": [],
   "source": [
    "driver.close()"
   ]
  },
  {
   "cell_type": "markdown",
   "id": "4cf36740",
   "metadata": {},
   "source": [
    "# Que 3"
   ]
  },
  {
   "cell_type": "code",
   "execution_count": null,
   "id": "8db5a4be",
   "metadata": {},
   "outputs": [],
   "source": [
    "a = ['fruits','cars','Machine Learning','Guitar','Cakes']\n",
    "\n",
    "for k in a:\n",
    "    driver = webdriver.Chrome(r\"C:/Users/DELL/Downloads/chromedriver_win32/chromedriver.exe\") # connect to webdriver\n",
    "    driver.get('https://www.google.co.in/imghp?hl=en&tab=ri&ogbl')   # get webpage\n",
    "    search = driver.find_element_by_xpath('//input[@class=\"gLFyf gsfi\"]')\n",
    "    search.send_keys(k)\n",
    "    time.sleep(3)\n",
    "    \n",
    "    searchbtn = driver.find_element_by_xpath('//button[@class = \"Tg7LZd\"]') # click search button\n",
    "    searchbtn.click()\n",
    "    time.sleep(5)\n",
    "    \n",
    "    imgsrc = []\n",
    "    imgurl = []\n",
    "    image_tag = driver.find_elements_by_xpath(\"//img[@class='rg_i Q4LuWd']\")\n",
    "    \n",
    "    i=0\n",
    "    while(i<320):\n",
    "        driver.execute_script(\"window.scrollBy(0,500000)\") # scroll down to get more images\n",
    "        i+=1\n",
    "    time.sleep(5)\n",
    "    \n",
    "    image_tag = driver.find_elements_by_xpath(\"//img[@class='rg_i Q4LuWd']\")\n",
    "    \n",
    "    for i in image_tag:\n",
    "        imgurl.append(i.get_attribute('src'))\n",
    "    for i in imgurl:\n",
    "        if i != None and i[0:8] =='https://': #extracing image urls\n",
    "             imgsrc.append(i)\n",
    "        \n",
    "    for i in range(0,10):\n",
    "        d = requests.get(imgsrc[i])\n",
    "        with open(\"E:/Fliprobo\"+k+str(i)+\".png\",\"wb\") as file: #opening as file to be written in binary mode\n",
    "        \n",
    "          file.write(d.content) #saving image in direcotry from source url\n",
    "    driver.quit()     "
   ]
  },
  {
   "cell_type": "code",
   "execution_count": null,
   "id": "466fb5de",
   "metadata": {},
   "outputs": [],
   "source": [
    "driver.close()"
   ]
  },
  {
   "cell_type": "markdown",
   "id": "d528755a",
   "metadata": {},
   "source": [
    "# Que 4"
   ]
  },
  {
   "cell_type": "code",
   "execution_count": null,
   "id": "be3c273e",
   "metadata": {},
   "outputs": [],
   "source": [
    "#Connectting to webdriver\n",
    "driver = webdriver.Chrome(r\"C:/Users/DELL/Downloads/chromedriver_win32/chromedriver.exe\")\n",
    "\n",
    "#Getting webpage\n",
    "driver.get(\"https://www.flipkart.com/\")\n",
    "driver.maximize_window()"
   ]
  },
  {
   "cell_type": "code",
   "execution_count": null,
   "id": "d51ee462",
   "metadata": {},
   "outputs": [],
   "source": [
    "#Ask the user to \"Enter the name of a smartphone to search\"\n",
    "\n",
    "user_input = input('Enter the name of a smartphone to search : ')"
   ]
  },
  {
   "cell_type": "code",
   "execution_count": null,
   "id": "81b302f0",
   "metadata": {},
   "outputs": [],
   "source": [
    "#Search the user input product\n",
    "\n",
    "search_bar = driver.find_element_by_xpath('//input[@class=\"_3704LK\"]') \n",
    "search_bar.clear()                                               \n",
    "search_bar.send_keys(user_input)                                   \n",
    "search_button = driver.find_element_by_xpath('//button[@class=\"L0Z3Pu\"]') \n",
    "search_button.click()  "
   ]
  },
  {
   "cell_type": "code",
   "execution_count": null,
   "id": "a173ee09",
   "metadata": {},
   "outputs": [],
   "source": [
    "produrl = []\n",
    "\n",
    "produrl_tag = driver.find_elements_by_xpath(\"//a[@class='_1fQZEK']\")\n",
    "for u in produrl_tag:\n",
    "     produrl.append(u.get_attribute(\"href\"))\n",
    "\n",
    "sep = ' | '"
   ]
  },
  {
   "cell_type": "code",
   "execution_count": null,
   "id": "75cbae5c",
   "metadata": {},
   "outputs": [],
   "source": [
    "Brand = []\n",
    "prod = []\n",
    "Colour = []\n",
    "RAM = []\n",
    "price = []\n",
    "Storage = []\n",
    "PrimCamera = []\n",
    "SecCamera = []\n",
    "DispSize = []\n",
    "DispRes = []\n",
    "Processor = []\n",
    "ProcCores = []\n",
    "BatteryCap = []"
   ]
  },
  {
   "cell_type": "code",
   "execution_count": null,
   "id": "114d288f",
   "metadata": {},
   "outputs": [],
   "source": [
    "for i in produrl:\n",
    "    driver.get(i)\n",
    "    time.sleep(3)\n",
    "    morebtn = driver.find_element_by_xpath(\"//button[@class='_2KpZ6l _1FH0tX']\")\n",
    "    morebtn.click()\n",
    "    time.sleep(5)\n",
    "    \n",
    "    #Scraping data for brand\n",
    "    try:\n",
    "        brandtag = driver.find_element_by_xpath(\"/html/body/div[1]/div/div[3]/div[1]/div[2]/div[1]/div[1]/div/div[4]/a\")\n",
    "        Brand.append(brandtag.text)\n",
    "        Brand = Brand[0:24]\n",
    "    except:\n",
    "        Brand.append('-')\n",
    "        \n",
    "        \n",
    "    #Scraping data for product name   \n",
    "    try:\n",
    "        prodtag = driver.find_element_by_xpath(\"//span[@class='B_NuCI']\")\n",
    "        prod.append(prodtag.text)\n",
    "        prod = prod[0:24]\n",
    "    except:\n",
    "        prod.append('-')\n",
    "        \n",
    "        \n",
    "    #Scraping data for colour    \n",
    "    try:\n",
    "        Colourtag = driver.find_element_by_xpath(\"//div[@class='_3k-BhJ'][1]/table/tbody/tr[4]/td[2]/ul/li\")\n",
    "        Colour.append(Colourtag.text)\n",
    "        Colour = Colour[0:24]\n",
    "    except NoSuchElementException:\n",
    "        Colour.append('-')\n",
    "        \n",
    "        \n",
    "    #Scraping data for Ram    \n",
    "    try:\n",
    "        RAMtag = driver.find_element_by_xpath(\"//div[@class='_3k-BhJ'][4]/table/tbody/tr[2]/td[2]/ul/li\")\n",
    "        RAM.append(RAMtag.text)\n",
    "        RAM = RAM[0:24]\n",
    "    except:\n",
    "        RAM.append('-')\n",
    "        \n",
    "        \n",
    "    #Scraping data for price    \n",
    "    try:\n",
    "        pricetag = driver.find_element_by_xpath(\"//div[@class='_30jeq3 _16Jk6d']\")\n",
    "        price.append(pricetag.text)\n",
    "        price = price[0:24]\n",
    "    except:\n",
    "        price.append('-')\n",
    "        \n",
    "    \n",
    "    #Scraping data for storage\n",
    "    try:\n",
    "        Storagetag = driver.find_element_by_xpath(\"//div[@class='_3k-BhJ'][4]/table/tbody/tr[1]/td[2]/ul/li\")\n",
    "        Storage.append(Storagetag.text)\n",
    "        Storage = Storage[0:24]\n",
    "    except:\n",
    "        Storage.append('-')\n",
    "        \n",
    "    \n",
    "    #Scraping data for primary camera\n",
    "    try:\n",
    "        PrimCameratag = driver.find_element_by_xpath(\"//div[@class='_2418kt']/ul/li[3]\")\n",
    "        PrimCamera.append(PrimCameratag.text.split(sep, 1)[0])\n",
    "        PrimCamera = PrimCamera[0:24]\n",
    "    except:\n",
    "        PrimCamera.append('-')\n",
    "        \n",
    "        \n",
    "    #Scraping data for sec camera\n",
    "    try:\n",
    "        SecCameratag = driver.find_element_by_xpath(\"//div[@class='_2418kt']/ul/li[3]\")\n",
    "        SecCamera.append(SecCameratag.text.split(sep, 1)[1])\n",
    "        SecCamera = SecCamera[0:24]\n",
    "    except:\n",
    "        SecCamera.append('-')\n",
    "        \n",
    "        \n",
    "    #Scraping data for display\n",
    "    try:\n",
    "        DispSizetag = driver.find_element_by_xpath(\"//div[@class='_3k-BhJ'][2]/table/tbody/tr[1]/td[2]/ul/li\")\n",
    "        DispSize.append(DispSizetag.text)\n",
    "        DispSize = DispSize[0:24]\n",
    "    except:\n",
    "        DispSize.append('-')\n",
    "        \n",
    "        \n",
    "     #Scraping data for display   \n",
    "    try:\n",
    "        DispRestag = driver.find_element_by_xpath(\"//div[@class='_3k-BhJ'][2]/table/tbody/tr[2]/td[2]/ul/li\")\n",
    "        DispRes.append(DispRestag.text)\n",
    "        DispRes = DispRes[0:24]\n",
    "    except:\n",
    "        DispRes.append('-')\n",
    "        \n",
    "        \n",
    "    #Scraping data for processor\n",
    "    try:\n",
    "        Processor_tag = driver.find_element_by_xpath(\"//div[@class='_3k-BhJ'][3]/table/tbody/tr[2]/td[2]/ul/li\")\n",
    "        Processor.append(Processor_tag.text)\n",
    "        Processor = Processor[0:24]\n",
    "    except:\n",
    "        Processor.append('-')\n",
    "        \n",
    "        \n",
    "    try:\n",
    "        ProcCores_tag = driver.find_element_by_xpath(\"//div[@class='_3k-BhJ'][3]/table/tbody/tr[3]/td[2]/ul/li\")\n",
    "        ProcCores.append(ProcCores_tag.text)\n",
    "        ProcCores = ProcCores[0:24]\n",
    "    except:\n",
    "        ProcCores.append('-')\n",
    "        \n",
    "        \n",
    "     #Scraping data for battery               \n",
    "    try:\n",
    "        BatteryCap_tag = driver.find_element_by_xpath(\"//div[@class='_2418kt']/ul/li[4]\")\n",
    "        BatteryCap.append(BatteryCap_tag.text)\n",
    "        BatteryCap = BatteryCap[0:24]\n",
    "    except:\n",
    "        BatteryCap.append('-')"
   ]
  },
  {
   "cell_type": "code",
   "execution_count": null,
   "id": "a35858d9",
   "metadata": {},
   "outputs": [],
   "source": [
    "len(Brand),len(prod),len(price),len(Colour),len(RAM),len(Storage),len(PrimCamera),len(SecCamera),len(DispSize),len(DispRes),len(Processor),len(ProcCores),len(BatteryCap)"
   ]
  },
  {
   "cell_type": "code",
   "execution_count": null,
   "id": "69f6940e",
   "metadata": {},
   "outputs": [],
   "source": [
    "Smartphone = {'Brand Name':Brand,'Smartphone Name':prod,'Price(₹)':price,'Colour':Colour,'RAM':RAM ,'Storage(ROM)':Storage,'Primary Camera':PrimCamera,'Secondary Camera':SecCamera,'Display Size':DispSize,'Display Resolution':DispRes,'Processor':Processor,'Processor Cores':ProcCores,'Battery Capacity':BatteryCap,'Product URL':produrl}\n",
    "\n",
    "Smartphonedf  = pd.DataFrame(Smartphone)\n",
    "Smartphonedf"
   ]
  },
  {
   "cell_type": "code",
   "execution_count": null,
   "id": "2cb48dbe",
   "metadata": {},
   "outputs": [],
   "source": [
    "driver.close()"
   ]
  },
  {
   "cell_type": "markdown",
   "id": "755f7c48",
   "metadata": {},
   "source": [
    "# Que 5"
   ]
  },
  {
   "cell_type": "code",
   "execution_count": null,
   "id": "66bbf082",
   "metadata": {},
   "outputs": [],
   "source": [
    "#Connectting to webdriver\n",
    "driver = webdriver.Chrome(r\"C:/Users/DELL/Downloads/chromedriver_win32/chromedriver.exe\")\n",
    "\n",
    "#Get webpage\n",
    "driver.get(\"https://www.google.com/maps\")\n",
    "driver.maximize_window()\n",
    "time.sleep(2)"
   ]
  },
  {
   "cell_type": "code",
   "execution_count": null,
   "id": "d9c37ece",
   "metadata": {},
   "outputs": [],
   "source": [
    "#Finding the search bar\n",
    "srch_bar = driver.find_element(By.XPATH,'//input[@class=\"tactile-searchbox-input\"]')    \n",
    "srch_bar.clear()                                               \n",
    "srch_bar.send_keys(input('Enter the city name: ')) \n",
    "\n",
    "\n",
    "#Finding the search button and clicking\n",
    "srch_button = driver.find_element(By.XPATH,'//button[@id=\"searchbox-searchbutton\"]')       \n",
    "srch_button.click()\n",
    "time.sleep(3)\n",
    "\n",
    "\n",
    "#Getting the current url\n",
    "Location=driver.current_url\n",
    "\n",
    "try:\n",
    "    coordinates=re.findall(r'@(.*)data',Location)\n",
    "    lat_lon=coordinates[0].split(\",\")\n",
    "    lat=lat_lon[0]\n",
    "    lon=lat_lon[1]\n",
    "except IndexError as e:\n",
    "    coordinates=re.findall(r'@(.*)z',Location)\n",
    "    lat_lon=coordinates[0].split(\",\")\n",
    "    lat=lat_lon[0]\n",
    "    lon=lat_lon[1]\n",
    "print(\"\\nlatitude={},longitude={}\".format(lat,lon))"
   ]
  },
  {
   "cell_type": "code",
   "execution_count": null,
   "id": "a6b5b164",
   "metadata": {},
   "outputs": [],
   "source": [
    "driver.close()"
   ]
  },
  {
   "cell_type": "markdown",
   "id": "3c5b3e92",
   "metadata": {},
   "source": [
    "# Que 6"
   ]
  },
  {
   "cell_type": "code",
   "execution_count": null,
   "id": "820a3755",
   "metadata": {},
   "outputs": [],
   "source": [
    "#Connectting to webdriver\n",
    "driver = webdriver.Chrome(r\"C:/Users/DELL/Downloads/chromedriver_win32/chromedriver.exe\")\n",
    "\n",
    "#Getting webpage\n",
    "driver.get(\"https://trak.in/\")\n",
    "driver.maximize_window()\n",
    "time.sleep(2)"
   ]
  },
  {
   "cell_type": "code",
   "execution_count": null,
   "id": "588373ee",
   "metadata": {},
   "outputs": [],
   "source": [
    "#Click on funding deals and go to that page\n",
    "fun_btn=driver.find_element(By.XPATH,\"//li[@id='menu-item-51510']/a\").get_attribute('href')\n",
    "driver.get(fun_btn)"
   ]
  },
  {
   "cell_type": "code",
   "execution_count": null,
   "id": "5cf170f5",
   "metadata": {},
   "outputs": [],
   "source": [
    "#Creating empty list\n",
    "\n",
    "funding={}\n",
    "funding[\"Date\"]=[]\n",
    "funding[\"Startup Name\"]=[]\n",
    "funding[\"Industry or Vertical\"]=[]\n",
    "funding[\"Sub Vertical\"]=[]\n",
    "funding[\"Location\"]=[]\n",
    "funding[\"Investor\"]=[]\n",
    "funding[\"Investment Type\"]=[]\n",
    "funding[\"Amount (in $)\"]=[]\n",
    "\n",
    "for i in range(54,57):\n",
    "    driver.find_element(By.XPATH,'//div[@id=\"tablepress-{}_wrapper\"]/div/label/select/option[4]'.format(i)).click()\n",
    "\n",
    "    #Scraping data of Date\n",
    "    date_tags = driver.find_elements(By.XPATH,'//table[@id=\"tablepress-{}\"]/tbody/tr/td[2]'.format(i))\n",
    "    for date in date_tags:\n",
    "        funding['Date'].append(date.text)\n",
    "        \n",
    "\n",
    "    #Scraping data of Startup Name\n",
    "    name_tags = driver.find_elements(By.XPATH,'//table[@id=\"tablepress-{}\"]/tbody/tr/td[3]'.format(i))\n",
    "    for name in name_tags:\n",
    "        funding['Startup Name'].append(name.text)\n",
    "        \n",
    "    \n",
    "    #Scraping data of Industry OR Vertical\n",
    "    ind_tags = driver.find_elements(By.XPATH,'//table[@id=\"tablepress-{}\"]/tbody/tr/td[4]'.format(i))\n",
    "    for n in ind_tags:\n",
    "        funding['Industry or Vertical'].append(n.text)\n",
    "        \n",
    "    \n",
    "    #Scraping data of Sub-Vertical\n",
    "    sv_tags = driver.find_elements(By.XPATH,'//table[@id=\"tablepress-{}\"]/tbody/tr/td[5]'.format(i))\n",
    "    for sv in sv_tags:\n",
    "        funding['Sub Vertical'].append(sv.text)\n",
    "        \n",
    "\n",
    "    #Scraping data of Location\n",
    "    loc_tags = driver.find_elements(By.XPATH,'//table[@id=\"tablepress-{}\"]/tbody/tr/td[6]'.format(i))\n",
    "    for loc in loc_tags:\n",
    "        funding['Location'].append(loc.text)\n",
    "        \n",
    "    \n",
    "    #Scraping data of Investor\n",
    "    inv_tags = driver.find_elements(By.XPATH,'//table[@id=\"tablepress-{}\"]/tbody/tr/td[7]'.format(i))\n",
    "    for inv in inv_tags:\n",
    "        funding['Investor'].append(inv.text)\n",
    "        \n",
    "        \n",
    "    #Scraping data of Investment Type\n",
    "    invt_tags = driver.find_elements(By.XPATH,'//table[@id=\"tablepress-{}\"]/tbody/tr/td[8]'.format(i))\n",
    "    for invt in invt_tags:\n",
    "        funding['Investment Type'].append(invt.text)\n",
    "        \n",
    "        \n",
    "    #Scraping data of Amount\n",
    "    amt_tags = driver.find_elements(By.XPATH,'//table[@id=\"tablepress-{}\"]/tbody/tr/td[9]'.format(i))\n",
    "    for amt in amt_tags:\n",
    "        funding['Amount (in $)'].append(amt.text)"
   ]
  },
  {
   "cell_type": "code",
   "execution_count": null,
   "id": "02ba7f75",
   "metadata": {},
   "outputs": [],
   "source": [
    "#Creating dataframe\n",
    "df=pd.DataFrame(funding)\n",
    "df"
   ]
  },
  {
   "cell_type": "code",
   "execution_count": null,
   "id": "183ac0d7",
   "metadata": {},
   "outputs": [],
   "source": [
    "driver.close()"
   ]
  },
  {
   "cell_type": "markdown",
   "id": "ae30b10a",
   "metadata": {},
   "source": [
    "# Que 7 "
   ]
  },
  {
   "cell_type": "code",
   "execution_count": null,
   "id": "5bf55602",
   "metadata": {},
   "outputs": [],
   "source": [
    "#Connectting to webdriver\n",
    "driver = webdriver.Chrome(r\"C:/Users/DELL/Downloads/chromedriver_win32/chromedriver.exe\")"
   ]
  },
  {
   "cell_type": "code",
   "execution_count": null,
   "id": "c5825a29",
   "metadata": {},
   "outputs": [],
   "source": [
    "#Getting webpage\n",
    "driver.get(\"https://www.digit.in/\")\n",
    "driver.maximize_window()\n",
    "time.sleep(2)"
   ]
  },
  {
   "cell_type": "code",
   "execution_count": null,
   "id": "530e2ea0",
   "metadata": {},
   "outputs": [],
   "source": [
    "#Clicking on top 10 button\n",
    "top10btn = driver.find_element_by_xpath('/html/body/div[1]/div/div[4]/ul/li[4]/a')\n",
    "top10btn.click()"
   ]
  },
  {
   "cell_type": "code",
   "execution_count": null,
   "id": "1c860049",
   "metadata": {},
   "outputs": [],
   "source": [
    "#Clicking on Gaminglaptop Article\n",
    "gaminglaptopbtn = driver.find_element_by_xpath('/html/body/div[3]/div/div/div[3]/div[2]/ul/li[26]/a')\n",
    "gaminglaptopbtn.click() "
   ]
  },
  {
   "cell_type": "code",
   "execution_count": null,
   "id": "b6034961",
   "metadata": {},
   "outputs": [],
   "source": [
    "#Create empty list\n",
    "\n",
    "name = []\n",
    "os = []\n",
    "disp = []\n",
    "mem = []\n",
    "price = []\n",
    "Processor = []\n",
    "GraphProc= []\n",
    "dim = []\n",
    "wt = []\n",
    "desc = []"
   ]
  },
  {
   "cell_type": "code",
   "execution_count": null,
   "id": "804cad21",
   "metadata": {},
   "outputs": [],
   "source": [
    "#Scrape all name tag\n",
    "name_tag  = driver.find_elements_by_xpath(\"//*[@id='summtable']/tbody/tr/td[1]\")\n",
    "for n in name_tag:\n",
    "    name.append(n.text)"
   ]
  },
  {
   "cell_type": "code",
   "execution_count": null,
   "id": "ea74da27",
   "metadata": {},
   "outputs": [],
   "source": [
    "#Scrape all price tag\n",
    "price_tag  = driver.find_elements_by_xpath(\"//*[@id='summtable']/tbody/tr/td[3]\")\n",
    "for p in price_tag:\n",
    "    price.append(p.text)"
   ]
  },
  {
   "cell_type": "code",
   "execution_count": null,
   "id": "aa2bfac7",
   "metadata": {},
   "outputs": [],
   "source": [
    "#Scrape all OS tag\n",
    "os_tag = driver.find_elements_by_xpath(\"//div[@class='Spcs-details']/table/tbody/tr[3]/td[3]\")\n",
    "for o in os_tag:\n",
    "    os.append(o.text)"
   ]
  },
  {
   "cell_type": "code",
   "execution_count": null,
   "id": "4493fab0",
   "metadata": {},
   "outputs": [],
   "source": [
    "#Scrape all display tag\n",
    "disp_tag = driver.find_elements_by_xpath(\"//div[@class='Spcs-details']/table/tbody/tr[4]/td[3]\")\n",
    "for d in disp_tag:\n",
    "    disp.append(d.text)"
   ]
  },
  {
   "cell_type": "code",
   "execution_count": null,
   "id": "e6e0c3bc",
   "metadata": {},
   "outputs": [],
   "source": [
    "#Scrape all Processor tag\n",
    "Processor_tag = driver.find_elements_by_xpath(\"//div[@class='Spcs-details']/table/tbody/tr[5]/td[3]\")\n",
    "for k in Processor_tag:\n",
    "    Processor.append(k.text)"
   ]
  },
  {
   "cell_type": "code",
   "execution_count": null,
   "id": "a2da7495",
   "metadata": {},
   "outputs": [],
   "source": [
    "#Scrape all Graphic tag\n",
    "GraphProc_tag = driver.find_elements_by_xpath(\"//div[@class='Spcs-details']/table/tbody/tr[8]/td[3]\")\n",
    "for g in GraphProc_tag:\n",
    "    GraphProc.append(g.text)"
   ]
  },
  {
   "cell_type": "code",
   "execution_count": null,
   "id": "3e10181b",
   "metadata": {},
   "outputs": [],
   "source": [
    "#Scrape all memory tag\n",
    "mem_tag = driver.find_elements_by_xpath(\"//div[@class='Spcs-details']/table/tbody/tr[6]/td[3]\")\n",
    "for m in mem_tag:\n",
    "    mem.append(g.text)"
   ]
  },
  {
   "cell_type": "code",
   "execution_count": null,
   "id": "5116e04f",
   "metadata": {},
   "outputs": [],
   "source": [
    "#Scrape all dimension tag\n",
    "dim_tag = driver.find_elements_by_xpath(\"//div[@class='Spcs-details']/table/tbody/tr[9]/td[3]\")\n",
    "for di in dim_tag:\n",
    "    dim.append(di.text)"
   ]
  },
  {
   "cell_type": "code",
   "execution_count": null,
   "id": "3daf94c4",
   "metadata": {},
   "outputs": [],
   "source": [
    "#Scrape all weight tag\n",
    "wt_tag = driver.find_elements_by_xpath(\"//div[@class='Spcs-details']/table/tbody/tr[7]/td[3]\")\n",
    "for w in wt_tag:\n",
    "    wt.append(w.text)"
   ]
  },
  {
   "cell_type": "code",
   "execution_count": null,
   "id": "c1c27f51",
   "metadata": {},
   "outputs": [],
   "source": [
    "#Scrape all description tag\n",
    "desc_tag = driver.find_elements_by_xpath(\"//div[@class='Section-center']//p\")\n",
    "for des in desc_tag:\n",
    "    desc.append(des.text)"
   ]
  },
  {
   "cell_type": "code",
   "execution_count": null,
   "id": "4ee4dd63",
   "metadata": {},
   "outputs": [],
   "source": [
    "#Check the description and remove extra lines\n",
    "\n",
    "#desc\n",
    "while('AVAILABLE' in desc):\n",
    "    desc.remove(\"AVAILABLE\")\n",
    "len(desc)"
   ]
  },
  {
   "cell_type": "code",
   "execution_count": null,
   "id": "dfa436ef",
   "metadata": {},
   "outputs": [],
   "source": [
    "Laptops = {'Laptop Name':name,'Operating System':os,'Display': disp,'Processor':Processor,'Graphics Processor':GraphProc ,'Memory':mem,'Dimensions':dim,'Weight(kg)':wt,'Price(₹)':price,'Details':desc}"
   ]
  },
  {
   "cell_type": "code",
   "execution_count": null,
   "id": "b7b5d39e",
   "metadata": {},
   "outputs": [],
   "source": [
    "Laptops  = pd.DataFrame(Laptops)\n",
    "Laptops"
   ]
  },
  {
   "cell_type": "code",
   "execution_count": null,
   "id": "90c2d1f1",
   "metadata": {},
   "outputs": [],
   "source": [
    "driver.close()"
   ]
  },
  {
   "cell_type": "markdown",
   "id": "03e094ff",
   "metadata": {},
   "source": [
    "# Que 8 "
   ]
  },
  {
   "cell_type": "code",
   "execution_count": null,
   "id": "59482cf3",
   "metadata": {},
   "outputs": [],
   "source": [
    "#Connectting to webdriver\n",
    "driver = webdriver.Chrome(r\"C:/Users/DELL/Downloads/chromedriver_win32/chromedriver.exe\")\n",
    "\n",
    "#Getting webpage\n",
    "driver.get(\"https://www.forbes.com/?sh=63b020902254\")\n",
    "driver.maximize_window()\n",
    "time.sleep(2)"
   ]
  },
  {
   "cell_type": "code",
   "execution_count": null,
   "id": "6950ff18",
   "metadata": {},
   "outputs": [],
   "source": [
    "#Clicking on Explore button\n",
    "Explbtn = driver.find_element_by_xpath('/html/body/div[1]/header/nav/div[1]/button[1]')\n",
    "Explbtn.click()"
   ]
  },
  {
   "cell_type": "code",
   "execution_count": null,
   "id": "cb6c78a2",
   "metadata": {},
   "outputs": [],
   "source": [
    "#Clicking on Billionaires button\n",
    "bilbtn = driver.find_element_by_xpath('/html/body/div[1]/header/nav/div[3]/ul/li[1]')\n",
    "bilbtn.click() \n",
    "\n",
    "#Clicking on World's Billionaires button\n",
    "allbtn =  driver.find_element_by_xpath('/html/body/div[1]/header/nav/div[3]/ul/li[1]/div[2]/ul/li[2]/a')\n",
    "allbtn.click() "
   ]
  },
  {
   "cell_type": "code",
   "execution_count": null,
   "id": "80c0abb7",
   "metadata": {},
   "outputs": [],
   "source": [
    "#Creating Empty list\n",
    "\n",
    "rank = []\n",
    "name = []\n",
    "netwrth = []\n",
    "age = []\n",
    "cit = []\n",
    "src = []\n",
    "ind = []\n",
    "\n",
    "#Getting Source\n",
    "rank_tag = driver.find_elements_by_xpath(\"//div[@class='rank']\")\n",
    "name_tag = driver.find_elements_by_xpath(\"//div[@class='personName']//div\")\n",
    "netwrth_tag = driver.find_elements_by_xpath(\"//div[@class='netWorth']//div\")\n",
    "age_tag = driver.find_elements_by_xpath(\"//div[@class='age']//div\")\n",
    "cit_tag = driver.find_elements_by_xpath(\"//div[@class='countryOfCitizenship']\")\n",
    "src_tag = driver.find_elements_by_xpath(\"//div[@class='source-column']//div\")\n",
    "ind_tag = driver.find_elements_by_xpath(\"//div[@class='category']//div\")\n",
    "\n",
    "#Scrape data\n",
    "for r in rank_tag:\n",
    "    rank.append(r.text)\n",
    "for n in name_tag:\n",
    "    name.append(n.text)\n",
    "for nt in netwrth_tag:\n",
    "    netwrth.append(nt.text)\n",
    "for a in age_tag:\n",
    "    age.append(a.text)\n",
    "for c in cit_tag:\n",
    "    cit.append(c.text)\n",
    "for s in src_tag:\n",
    "    src.append(s.text)\n",
    "for i in ind_tag:\n",
    "    ind.append(i.text)"
   ]
  },
  {
   "cell_type": "code",
   "execution_count": null,
   "id": "4ef4d541",
   "metadata": {},
   "outputs": [],
   "source": [
    "#Click next page and scrape the data\n",
    "\n",
    "import time \n",
    "\n",
    "\n",
    "i=0\n",
    "\n",
    "while(i<=12):\n",
    "    \n",
    "    nextbtn = driver.find_element_by_xpath(\"//div[@class='next-page']\")\n",
    "    nextbtn.click()\n",
    "    time.sleep(3)\n",
    "    \n",
    "    rank_tag = driver.find_elements_by_xpath(\"//div[@class='rank']\")\n",
    "    name_tag = driver.find_elements_by_xpath(\"//div[@class='personName']//div\")\n",
    "    netwrth_tag = driver.find_elements_by_xpath(\"//div[@class='netWorth']//div\")\n",
    "    age_tag = driver.find_elements_by_xpath(\"//div[@class='age']//div\")\n",
    "    cit_tag = driver.find_elements_by_xpath(\"//div[@class='countryOfCitizenship']\")\n",
    "    src_tag = driver.find_elements_by_xpath(\"//div[@class='source-column']//div\")\n",
    "    ind_tag = driver.find_elements_by_xpath(\"//div[@class='category']//div\")\n",
    "    for r in rank_tag:\n",
    "            rank.append(r.text)\n",
    "    for n in name_tag:\n",
    "            name.append(n.text)\n",
    "    for nt in netwrth_tag:\n",
    "            netwrth.append(nt.text)\n",
    "    for a in age_tag:\n",
    "            age.append(a.text)\n",
    "    for c in cit_tag:\n",
    "            cit.append(c.text)  \n",
    "    for s in src_tag:\n",
    "            src.append(s.text)\n",
    "    for k in ind_tag:\n",
    "            ind.append(k.text)\n",
    "    \n",
    "    i=i+1"
   ]
  },
  {
   "cell_type": "code",
   "execution_count": null,
   "id": "d1dc7935",
   "metadata": {},
   "outputs": [],
   "source": [
    "#Length of all the coloumns\n",
    "len(rank),len(name),len(netwrth),len(age),len(cit),len(src),len(ind)"
   ]
  },
  {
   "cell_type": "code",
   "execution_count": null,
   "id": "64fcb781",
   "metadata": {},
   "outputs": [],
   "source": [
    "#Removing empty string values from netwrth\n",
    "#netwrth\n",
    "\n",
    "while('' in netwrth):  \n",
    "    netwrth.remove(\"\")"
   ]
  },
  {
   "cell_type": "code",
   "execution_count": null,
   "id": "5e9ca3a0",
   "metadata": {},
   "outputs": [],
   "source": [
    "#Replacing unwanted symbol with empty string\n",
    "#src\n",
    "\n",
    "for i in range(0,len(src)):\n",
    "    if src[i] == '★': \n",
    "        src[i] = ''"
   ]
  },
  {
   "cell_type": "code",
   "execution_count": null,
   "id": "05abf333",
   "metadata": {},
   "outputs": [],
   "source": [
    "rank = rank[0:2555]\n",
    "\n",
    "src = src[0:2555]"
   ]
  },
  {
   "cell_type": "code",
   "execution_count": null,
   "id": "b6f2b2ae",
   "metadata": {},
   "outputs": [],
   "source": [
    "#Creating Dataframe\n",
    "Billionaires = {'Rank':rank,'Name':name,'Net Worth':netwrth,'Age': age,'Citizenship/Country':cit,'Source':src,'Industry':ind}\n",
    "\n",
    "BillionairesDF  = pd.DataFrame(Billionaires)\n",
    "BillionairesDF"
   ]
  },
  {
   "cell_type": "code",
   "execution_count": null,
   "id": "fcf78840",
   "metadata": {},
   "outputs": [],
   "source": [
    "driver.close()"
   ]
  },
  {
   "cell_type": "markdown",
   "id": "aac79dee",
   "metadata": {},
   "source": [
    "# Que 9"
   ]
  },
  {
   "cell_type": "code",
   "execution_count": null,
   "id": "6ab57ee8",
   "metadata": {},
   "outputs": [],
   "source": [
    "#Connectting to webdriver\n",
    "driver = webdriver.Chrome(r\"C:/Users/DELL/Downloads/chromedriver_win32/chromedriver.exe\")\n",
    "\n",
    "#Getting webpage\n",
    "driver.get(\"https://www.youtube.com/\")\n",
    "driver.maximize_window()\n",
    "time.sleep(2)"
   ]
  },
  {
   "cell_type": "code",
   "execution_count": null,
   "id": "7b69317b",
   "metadata": {},
   "outputs": [],
   "source": [
    "#Video url\n",
    "url = \"https://www.youtube.com/watch?v=H00ZPdUtmog\"\n",
    "driver.get(url)"
   ]
  },
  {
   "cell_type": "code",
   "execution_count": null,
   "id": "a7b119b8",
   "metadata": {},
   "outputs": [],
   "source": [
    "#Scroll the webpage\n",
    "\n",
    "i=0\n",
    "while(i<100):\n",
    "    driver.execute_script(\"window.scrollBy(0,5000)\") # scroll down to get more comments\n",
    "    i+=1\n",
    "while(i<402):\n",
    "    driver.execute_script(\"window.scrollBy(0,10000)\") # scroll down to get more comments\n",
    "    i+=1"
   ]
  },
  {
   "cell_type": "code",
   "execution_count": null,
   "id": "20ed23e1",
   "metadata": {},
   "outputs": [],
   "source": [
    "#Fetch comments tag\n",
    "\n",
    "com_tags=driver.find_elements_by_xpath('//yt-formatted-string[@id=\"content-text\"]')\n",
    "\n",
    "comments=[]\n",
    "\n",
    "for i in com_tags:\n",
    "    comments.append(i.text)\n",
    "len(comments)"
   ]
  },
  {
   "cell_type": "code",
   "execution_count": null,
   "id": "e64ff16b",
   "metadata": {},
   "outputs": [],
   "source": [
    "upvote_tags=driver.find_elements_by_xpath('//span[@id=\"vote-count-middle\"]')\n",
    "\n",
    "upvotes=[]\n",
    "\n",
    "for i in upvote_tags:\n",
    "    try:\n",
    "        upvotes.append(i.text)\n",
    "    except:\n",
    "        upvotes.append('---')\n",
    "len(upvotes)"
   ]
  },
  {
   "cell_type": "code",
   "execution_count": null,
   "id": "b266aa08",
   "metadata": {},
   "outputs": [],
   "source": [
    "ago_tags=driver.find_elements_by_xpath('//yt-formatted-string[@class=\"published-time-text above-comment style-scope ytd-comment-renderer\"]//a')\n",
    "\n",
    "ago=[]\n",
    "\n",
    "for i in ago_tags:\n",
    "    try:\n",
    "        ago.append(i.text)\n",
    "    except:\n",
    "        ago.append('---')\n",
    "ago[0:5]"
   ]
  },
  {
   "cell_type": "code",
   "execution_count": null,
   "id": "c98cebc0",
   "metadata": {},
   "outputs": [],
   "source": [
    "#Creating dataframe\n",
    "\n",
    "youtube_comments=pd.DataFrame()\n",
    "\n",
    "youtube_comments['Comment']=comments\n",
    "youtube_comments['Upvotes']=upvotes\n",
    "youtube_comments['Time']=ago\n",
    "\n",
    "youtube_comments.head(10)"
   ]
  },
  {
   "cell_type": "code",
   "execution_count": null,
   "id": "59fe01ae",
   "metadata": {},
   "outputs": [],
   "source": [
    "driver.close()"
   ]
  },
  {
   "cell_type": "markdown",
   "id": "626e6b6b",
   "metadata": {},
   "source": [
    "# Que 10"
   ]
  },
  {
   "cell_type": "code",
   "execution_count": null,
   "id": "4446be00",
   "metadata": {},
   "outputs": [],
   "source": [
    "#Connectting to webdriver\n",
    "driver = webdriver.Chrome(r\"C:/Users/DELL/Downloads/chromedriver_win32/chromedriver.exe\")\n",
    "\n",
    "#Getting webpage\n",
    "driver.get(\"https://www.hostelworld.com/ \")\n",
    "driver.maximize_window()\n",
    "time.sleep(2)"
   ]
  },
  {
   "cell_type": "code",
   "execution_count": null,
   "id": "faed0268",
   "metadata": {},
   "outputs": [],
   "source": [
    "#Select london\n",
    "driver.find_element_by_id('location-text-input-field').click()\n",
    "time.sleep(2)\n",
    "driver.find_element_by_xpath('//*[@id=\"search-input-field\"]').send_keys('London')\n",
    "time.sleep(4)\n",
    "\n",
    "\n",
    "#DO click on search button\n",
    "driver.find_element_by_xpath('//*[@id=\"predicted-search-results\"]/li[2]').click()\n",
    "driver.find_element_by_id('search-button').click()"
   ]
  },
  {
   "cell_type": "code",
   "execution_count": null,
   "id": "16d0b5a0",
   "metadata": {},
   "outputs": [],
   "source": [
    "#Creating empty list\n",
    "\n",
    "hostel_name = []\n",
    "distance = []\n",
    "pvt_prices = []\n",
    "dorms_price = []\n",
    "rating = []\n",
    "reviews = []\n",
    "over_all = []\n",
    "facilities = []\n",
    "description =[]\n",
    "product_url = []"
   ]
  },
  {
   "cell_type": "code",
   "execution_count": null,
   "id": "c5aaafe5",
   "metadata": {},
   "outputs": [],
   "source": [
    "#Fetch the data\n",
    "\n",
    "for i in driver.find_elements_by_xpath(\"//div[@class = 'pagination-item pagination-current' or @class='pagination-item']\"):\n",
    "    i.click()\n",
    "    time.sleep(4)\n",
    "    \n",
    "    \n",
    "    #Fetching hostel name\n",
    "    \n",
    "    try:\n",
    "        name = driver.find_elements_by_xpath(\"//h2[@class='title title-6']\")\n",
    "        for i in name:\n",
    "            hostel_name.append(i.text)\n",
    "    except NoSuchElementException:\n",
    "        hostel_name.append('-')\n",
    "        \n",
    "        \n",
    "    #Fetching distance from city centre\n",
    "    \n",
    "    try:\n",
    "        dist = driver.find_elements_by_xpath(\"//div[@class='subtitle body-3']//a//span[1]\")\n",
    "        for i in dist:\n",
    "            distance.append(i.text.replace('Hostel - ',''))\n",
    "    except NoSuchElementException:\n",
    "        distance.append('-')\n",
    "        \n",
    "    for i in driver.find_elements_by_xpath(\"//div[@class='prices-col']\"):\n",
    "        \n",
    "        \n",
    "    #Fetch privates from price\n",
    "    \n",
    "        try:\n",
    "            pvt_price = driver.find_element_by_xpath(\"//a[@class='prices']//div[1]//div\")\n",
    "            pvt_prices.append(pvt_price.text)\n",
    "        except NoSuchElementException:\n",
    "            pvt_prices.append('-')\n",
    "            \n",
    "            \n",
    "    #Fetching dorms from price\n",
    "    \n",
    "    for i in driver.find_elements_by_xpath(\"//div[@class='prices-col']\"):\n",
    "        try:\n",
    "            dorms = driver.find_element_by_xpath(\"//a[@class='prices']//div[2]//div\")\n",
    "            dorms_price.append(dorms.text)\n",
    "        except NoSuchElementException:\n",
    "            dorms_price.append('-')\n",
    "            \n",
    "            \n",
    "    #Fetching facilities\n",
    "    \n",
    "    try:\n",
    "        fac1 = driver.find_elements_by_xpath(\"//div[@class='has-wifi']\")\n",
    "        fac2 = driver.find_elements_by_xpath(\"//div[@class='has-sanitation']\")\n",
    "        for i in fac1:\n",
    "            for j in fac2:\n",
    "                facilities.append(i.text +', '+ j.text )\n",
    "    except NoSuchElementException:\n",
    "        facilities.append('-')\n",
    "        \n",
    "        \n",
    "    #lets fetch url of each hostel\n",
    "    \n",
    "    p_url = driver.find_elements_by_xpath(\"//div[@class='prices-col']//a[2]\")\n",
    "    for i in p_url:\n",
    "        product_url.append(i.get_attribute('href'))\n",
    "\n",
    "for i in product_url:\n",
    "    driver.get(i)\n",
    "    time.sleep(3)\n",
    "    \n",
    "    \n",
    "    #lets click on show more button for description\n",
    "    \n",
    "    try:\n",
    "        driver.find_element_by_xpath(\"//a[@class='toggle-content']\").click()\n",
    "        time.sleep(5)\n",
    "    except NoSuchElementException:\n",
    "        pass\n",
    "    \n",
    "    \n",
    "    #Fetching ratings\n",
    "    try:\n",
    "        rat = driver.find_element_by_xpath(\"//div[@class='score orange big' or @class='score gray big']\")\n",
    "        rating.append(rat.text)\n",
    "    except NoSuchElementException:\n",
    "        rating.append('-')\n",
    "        \n",
    "        \n",
    "        \n",
    "    #Fetching total reviews\n",
    "        \n",
    "    try:\n",
    "        rws = driver.find_element_by_xpath(\"//div[@class='reviews']\")\n",
    "        reviews.append(rws.text.replace('Total Reviews',''))\n",
    "    except NoSuchElementException:\n",
    "        reviews.append('-')\n",
    "        \n",
    "        \n",
    "    #Fetch overall review\n",
    "    \n",
    "    try:\n",
    "        overall_rw = driver.find_element_by_xpath(\"//div[@class='keyword']//span\")\n",
    "        over_all.append(overall_rw.text)\n",
    "    except NoSuchElementException:\n",
    "        over_all.append('-')\n",
    "        \n",
    "        \n",
    "    #Fetch property description \n",
    "    \n",
    "    try:\n",
    "        disc = driver.find_element_by_xpath(\"//div[@class='content']\")\n",
    "        description.append(disc.text)\n",
    "    except NoSuchElementException:\n",
    "        over_all.append('-')"
   ]
  },
  {
   "cell_type": "code",
   "execution_count": null,
   "id": "ac4cdbc5",
   "metadata": {},
   "outputs": [],
   "source": [
    "len(hostel_name),len(distance),len(pvt_prices),len(dorms_price),len(rating),len(reviews),len(over_all),len(facilities),len(description),len(product_url)"
   ]
  },
  {
   "cell_type": "code",
   "execution_count": null,
   "id": "b6ac2302",
   "metadata": {},
   "outputs": [],
   "source": [
    "hostel_name = hostel_name[0:17]\n",
    "distance = distance[0:17]\n",
    "pvt_prices = pvt_prices[0:17]\n",
    "dorms_price = dorms_price[0:17]\n",
    "rating = rating[0:17]\n",
    "reviews = reviews[0:17]\n",
    "over_all = over_all[0:17]\n",
    "facilities = facilities[0:17]\n",
    "description =description[0:17]\n",
    "product_url = product_url[0:17]"
   ]
  },
  {
   "cell_type": "code",
   "execution_count": null,
   "id": "771d6a9d",
   "metadata": {},
   "outputs": [],
   "source": [
    "Hostel = pd.DataFrame({})\n",
    "Hostel['Hostel_Name'] = hostel_name\n",
    "Hostel['Distance fron city centre'] = distance\n",
    "Hostel['Ratings'] = rating\n",
    "Hostel['Total_reviews'] = reviews\n",
    "Hostel['Overall Reviews'] = over_all\n",
    "Hostel['Privates from price'] = pvt_prices\n",
    "Hostel['Dorms from price'] = dorms_price\n",
    "Hostel['Description'] = description"
   ]
  },
  {
   "cell_type": "code",
   "execution_count": null,
   "id": "0b94fa62",
   "metadata": {},
   "outputs": [],
   "source": [
    "Hostel"
   ]
  },
  {
   "cell_type": "code",
   "execution_count": null,
   "id": "61096bc4",
   "metadata": {},
   "outputs": [],
   "source": []
  }
 ],
 "metadata": {
  "kernelspec": {
   "display_name": "Python 3",
   "language": "python",
   "name": "python3"
  },
  "language_info": {
   "codemirror_mode": {
    "name": "ipython",
    "version": 3
   },
   "file_extension": ".py",
   "mimetype": "text/x-python",
   "name": "python",
   "nbconvert_exporter": "python",
   "pygments_lexer": "ipython3",
   "version": "3.8.8"
  }
 },
 "nbformat": 4,
 "nbformat_minor": 5
}
